{
 "cells": [
  {
   "cell_type": "code",
   "execution_count": 1,
   "metadata": {},
   "outputs": [],
   "source": [
    "import pandas as pd\n",
    "import numpy as np"
   ]
  },
  {
   "cell_type": "code",
   "execution_count": 2,
   "metadata": {},
   "outputs": [],
   "source": [
    "harData = pd.read_csv(\"a_data.csv\")"
   ]
  },
  {
   "cell_type": "code",
   "execution_count": 3,
   "metadata": {},
   "outputs": [
    {
     "data": {
      "text/plain": [
       "49159"
      ]
     },
     "execution_count": 3,
     "metadata": {},
     "output_type": "execute_result"
    }
   ],
   "source": [
    "len(harData)"
   ]
  },
  {
   "cell_type": "code",
   "execution_count": 4,
   "metadata": {},
   "outputs": [
    {
     "data": {
      "text/html": [
       "<div>\n",
       "<style scoped>\n",
       "    .dataframe tbody tr th:only-of-type {\n",
       "        vertical-align: middle;\n",
       "    }\n",
       "\n",
       "    .dataframe tbody tr th {\n",
       "        vertical-align: top;\n",
       "    }\n",
       "\n",
       "    .dataframe thead th {\n",
       "        text-align: right;\n",
       "    }\n",
       "</style>\n",
       "<table border=\"1\" class=\"dataframe\">\n",
       "  <thead>\n",
       "    <tr style=\"text-align: right;\">\n",
       "      <th></th>\n",
       "      <th>Date</th>\n",
       "      <th>Time</th>\n",
       "      <th>Resistor</th>\n",
       "      <th>RC</th>\n",
       "      <th>RR</th>\n",
       "      <th>VT</th>\n",
       "      <th>V</th>\n",
       "      <th>DTCY</th>\n",
       "      <th>Target</th>\n",
       "    </tr>\n",
       "  </thead>\n",
       "  <tbody>\n",
       "    <tr>\n",
       "      <th>0</th>\n",
       "      <td>10/31/2018</td>\n",
       "      <td>13:46:39:650</td>\n",
       "      <td>44.82758</td>\n",
       "      <td>0</td>\n",
       "      <td>13</td>\n",
       "      <td>1.786316</td>\n",
       "      <td>23.22211</td>\n",
       "      <td>33</td>\n",
       "      <td>Standing</td>\n",
       "    </tr>\n",
       "    <tr>\n",
       "      <th>1</th>\n",
       "      <td>10/31/2018</td>\n",
       "      <td>13:46:39:696</td>\n",
       "      <td>44.82758</td>\n",
       "      <td>0</td>\n",
       "      <td>13</td>\n",
       "      <td>1.786316</td>\n",
       "      <td>23.22211</td>\n",
       "      <td>33</td>\n",
       "      <td>Standing</td>\n",
       "    </tr>\n",
       "    <tr>\n",
       "      <th>2</th>\n",
       "      <td>10/31/2018</td>\n",
       "      <td>13:46:39:740</td>\n",
       "      <td>44.82758</td>\n",
       "      <td>0</td>\n",
       "      <td>13</td>\n",
       "      <td>1.786316</td>\n",
       "      <td>23.22211</td>\n",
       "      <td>33</td>\n",
       "      <td>Standing</td>\n",
       "    </tr>\n",
       "    <tr>\n",
       "      <th>3</th>\n",
       "      <td>10/31/2018</td>\n",
       "      <td>13:46:39:800</td>\n",
       "      <td>44.82758</td>\n",
       "      <td>0</td>\n",
       "      <td>13</td>\n",
       "      <td>1.786316</td>\n",
       "      <td>23.22211</td>\n",
       "      <td>33</td>\n",
       "      <td>Standing</td>\n",
       "    </tr>\n",
       "    <tr>\n",
       "      <th>4</th>\n",
       "      <td>10/31/2018</td>\n",
       "      <td>13:46:39:845</td>\n",
       "      <td>44.82758</td>\n",
       "      <td>0</td>\n",
       "      <td>13</td>\n",
       "      <td>1.786316</td>\n",
       "      <td>23.22211</td>\n",
       "      <td>33</td>\n",
       "      <td>Standing</td>\n",
       "    </tr>\n",
       "  </tbody>\n",
       "</table>\n",
       "</div>"
      ],
      "text/plain": [
       "         Date          Time  Resistor  RC  RR        VT         V  DTCY  \\\n",
       "0  10/31/2018  13:46:39:650  44.82758   0  13  1.786316  23.22211    33   \n",
       "1  10/31/2018  13:46:39:696  44.82758   0  13  1.786316  23.22211    33   \n",
       "2  10/31/2018  13:46:39:740  44.82758   0  13  1.786316  23.22211    33   \n",
       "3  10/31/2018  13:46:39:800  44.82758   0  13  1.786316  23.22211    33   \n",
       "4  10/31/2018  13:46:39:845  44.82758   0  13  1.786316  23.22211    33   \n",
       "\n",
       "     Target  \n",
       "0  Standing  \n",
       "1  Standing  \n",
       "2  Standing  \n",
       "3  Standing  \n",
       "4  Standing  "
      ]
     },
     "execution_count": 4,
     "metadata": {},
     "output_type": "execute_result"
    }
   ],
   "source": [
    "harData.head()"
   ]
  },
  {
   "cell_type": "code",
   "execution_count": 5,
   "metadata": {},
   "outputs": [
    {
     "name": "stdout",
     "output_type": "stream",
     "text": [
      "Standing    11990\n",
      "Sitting     11990\n",
      "Reading     10791\n",
      "Walking      9592\n",
      "Hopping      4796\n",
      "Name: Target, dtype: int64\n"
     ]
    }
   ],
   "source": [
    "#harData.T\n",
    "print(harData.Target.value_counts())"
   ]
  },
  {
   "cell_type": "code",
   "execution_count": 50,
   "metadata": {},
   "outputs": [],
   "source": [
    "#harData.columns"
   ]
  },
  {
   "cell_type": "code",
   "execution_count": 51,
   "metadata": {},
   "outputs": [],
   "source": [
    "# Standing, Sitting, Walking, Reading, Hopping\n",
    "temp = []\n",
    "for i in harData.Target:\n",
    "    if i == \"Standing\": temp.append(0)\n",
    "    if i == \"Sitting\": temp.append(1)\n",
    "    if i == \"Walking\": temp.append(2)\n",
    "    if i == \"Reading\": temp.append(3)\n",
    "    if i == \"Hopping\": temp.append(4)\n",
    "harData[\"n_Activity\"] = temp"
   ]
  },
  {
   "cell_type": "code",
   "execution_count": 52,
   "metadata": {},
   "outputs": [],
   "source": [
    "harData.drop([\"Date\", \"Time\", \"Target\"] , axis = 1 , inplace = True)"
   ]
  },
  {
   "cell_type": "code",
   "execution_count": 53,
   "metadata": {},
   "outputs": [
    {
     "data": {
      "text/html": [
       "<div>\n",
       "<style scoped>\n",
       "    .dataframe tbody tr th:only-of-type {\n",
       "        vertical-align: middle;\n",
       "    }\n",
       "\n",
       "    .dataframe tbody tr th {\n",
       "        vertical-align: top;\n",
       "    }\n",
       "\n",
       "    .dataframe thead th {\n",
       "        text-align: right;\n",
       "    }\n",
       "</style>\n",
       "<table border=\"1\" class=\"dataframe\">\n",
       "  <thead>\n",
       "    <tr style=\"text-align: right;\">\n",
       "      <th></th>\n",
       "      <th>Resistor</th>\n",
       "      <th>RC</th>\n",
       "      <th>RR</th>\n",
       "      <th>VT</th>\n",
       "      <th>V</th>\n",
       "      <th>DTCY</th>\n",
       "      <th>n_Activity</th>\n",
       "    </tr>\n",
       "  </thead>\n",
       "  <tbody>\n",
       "    <tr>\n",
       "      <th>0</th>\n",
       "      <td>44.82758</td>\n",
       "      <td>0</td>\n",
       "      <td>13</td>\n",
       "      <td>1.786316</td>\n",
       "      <td>23.22211</td>\n",
       "      <td>33</td>\n",
       "      <td>0</td>\n",
       "    </tr>\n",
       "    <tr>\n",
       "      <th>1</th>\n",
       "      <td>44.82758</td>\n",
       "      <td>0</td>\n",
       "      <td>13</td>\n",
       "      <td>1.786316</td>\n",
       "      <td>23.22211</td>\n",
       "      <td>33</td>\n",
       "      <td>0</td>\n",
       "    </tr>\n",
       "    <tr>\n",
       "      <th>2</th>\n",
       "      <td>44.82758</td>\n",
       "      <td>0</td>\n",
       "      <td>13</td>\n",
       "      <td>1.786316</td>\n",
       "      <td>23.22211</td>\n",
       "      <td>33</td>\n",
       "      <td>0</td>\n",
       "    </tr>\n",
       "    <tr>\n",
       "      <th>3</th>\n",
       "      <td>44.82758</td>\n",
       "      <td>0</td>\n",
       "      <td>13</td>\n",
       "      <td>1.786316</td>\n",
       "      <td>23.22211</td>\n",
       "      <td>33</td>\n",
       "      <td>0</td>\n",
       "    </tr>\n",
       "    <tr>\n",
       "      <th>4</th>\n",
       "      <td>44.82758</td>\n",
       "      <td>0</td>\n",
       "      <td>13</td>\n",
       "      <td>1.786316</td>\n",
       "      <td>23.22211</td>\n",
       "      <td>33</td>\n",
       "      <td>0</td>\n",
       "    </tr>\n",
       "  </tbody>\n",
       "</table>\n",
       "</div>"
      ],
      "text/plain": [
       "   Resistor  RC  RR        VT         V  DTCY  n_Activity\n",
       "0  44.82758   0  13  1.786316  23.22211    33           0\n",
       "1  44.82758   0  13  1.786316  23.22211    33           0\n",
       "2  44.82758   0  13  1.786316  23.22211    33           0\n",
       "3  44.82758   0  13  1.786316  23.22211    33           0\n",
       "4  44.82758   0  13  1.786316  23.22211    33           0"
      ]
     },
     "execution_count": 53,
     "metadata": {},
     "output_type": "execute_result"
    }
   ],
   "source": [
    "harData.head()"
   ]
  },
  {
   "cell_type": "code",
   "execution_count": 54,
   "metadata": {},
   "outputs": [],
   "source": [
    "x = harData.iloc[:, 0:6].values\n",
    "y = harData.iloc[:, 6].values"
   ]
  },
  {
   "cell_type": "code",
   "execution_count": 55,
   "metadata": {},
   "outputs": [],
   "source": [
    "from sklearn.preprocessing import LabelEncoder, OneHotEncoder\n",
    "labelencoder_y_1 = LabelEncoder()\n",
    "y = labelencoder_y_1.fit_transform(y)"
   ]
  },
  {
   "cell_type": "code",
   "execution_count": 56,
   "metadata": {},
   "outputs": [],
   "source": [
    "from sklearn.model_selection import train_test_split\n",
    "trainX, testX, trainY, testY = train_test_split(x, y, test_size=0.25, random_state=101)"
   ]
  },
  {
   "cell_type": "code",
   "execution_count": 57,
   "metadata": {},
   "outputs": [],
   "source": [
    "# Feature Scaling\n",
    "from sklearn.preprocessing import StandardScaler\n",
    "sc = StandardScaler()\n",
    "trainX = sc.fit_transform(trainX)\n",
    "testX = sc.fit_transform(testX)"
   ]
  },
  {
   "cell_type": "code",
   "execution_count": 58,
   "metadata": {},
   "outputs": [
    {
     "name": "stdout",
     "output_type": "stream",
     "text": [
      "(36869, 6) (36869,)\n",
      "(12290, 6) (12290,)\n"
     ]
    }
   ],
   "source": [
    "print(trainX.shape , trainY.shape)\n",
    "print(testX.shape , testY.shape)"
   ]
  },
  {
   "cell_type": "code",
   "execution_count": null,
   "metadata": {},
   "outputs": [],
   "source": []
  },
  {
   "cell_type": "code",
   "execution_count": 59,
   "metadata": {},
   "outputs": [],
   "source": [
    "# Part two - Time for the ANN\n",
    "# import the Keras libraries and packages\n",
    "import keras\n",
    "from keras.models import Sequential\n",
    "from keras.layers import Dense, Dropout , BatchNormalization\n",
    "from keras.utils import np_utils\n",
    "from keras.optimizers import RMSprop, Adam\n",
    "from keras import regularizers"
   ]
  },
  {
   "cell_type": "code",
   "execution_count": 60,
   "metadata": {},
   "outputs": [],
   "source": [
    "#Taking necessary callbacks of checkpointing and learning rate reducer.\n",
    "filepath=\"HAR_weights.hdf5\"\n",
    "from keras.callbacks import ReduceLROnPlateau , ModelCheckpoint\n",
    "\n",
    "lr_reduce = ReduceLROnPlateau(monitor='val_acc', factor=0.1, epsilon=0.0001, patience=1, verbose=1)\n",
    "checkpoint = ModelCheckpoint(filepath, monitor='val_acc', verbose=1, save_best_only=True, mode='max')"
   ]
  },
  {
   "cell_type": "code",
   "execution_count": 61,
   "metadata": {},
   "outputs": [],
   "source": [
    "# Initialize the ANN\n",
    "model = Sequential()\n",
    "\n",
    "# Adding the input layer and the first hidden layer\n",
    "model.add(Dense(64, input_dim=trainX.shape[1], activation='relu', kernel_regularizer=regularizers.l1_l2(0.001)))\n",
    "# model.add(Dense(64, input_dim=trainX.shape[1], activation='relu'))\n",
    "model.add(Dense(64, activation='relu'))\n",
    "model.add(BatchNormalization())\n",
    "model.add(Dense(128, activation='relu'))\n",
    "model.add(Dense(196, activation='relu'))\n",
    "model.add(Dense(32, activation='relu'))\n",
    "model.add(Dense(6, activation='sigmoid'))\n",
    "\n",
    "model.compile(optimizer = Adam(lr = 0.01, decay=0.01/50),loss='sparse_categorical_crossentropy', metrics=['accuracy'])\n"
   ]
  },
  {
   "cell_type": "code",
   "execution_count": 62,
   "metadata": {},
   "outputs": [
    {
     "name": "stdout",
     "output_type": "stream",
     "text": [
      "_________________________________________________________________\n",
      "Layer (type)                 Output Shape              Param #   \n",
      "=================================================================\n",
      "dense_13 (Dense)             (None, 64)                448       \n",
      "_________________________________________________________________\n",
      "dense_14 (Dense)             (None, 64)                4160      \n",
      "_________________________________________________________________\n",
      "batch_normalization_3 (Batch (None, 64)                256       \n",
      "_________________________________________________________________\n",
      "dense_15 (Dense)             (None, 128)               8320      \n",
      "_________________________________________________________________\n",
      "dense_16 (Dense)             (None, 196)               25284     \n",
      "_________________________________________________________________\n",
      "dense_17 (Dense)             (None, 32)                6304      \n",
      "_________________________________________________________________\n",
      "dense_18 (Dense)             (None, 6)                 198       \n",
      "=================================================================\n",
      "Total params: 44,970\n",
      "Trainable params: 44,842\n",
      "Non-trainable params: 128\n",
      "_________________________________________________________________\n",
      "None\n"
     ]
    }
   ],
   "source": [
    "print(model.summary())"
   ]
  },
  {
   "cell_type": "code",
   "execution_count": 63,
   "metadata": {},
   "outputs": [
    {
     "name": "stdout",
     "output_type": "stream",
     "text": [
      "Train on 36869 samples, validate on 12290 samples\n",
      "Epoch 1/50\n",
      "36864/36869 [============================>.] - ETA: 0s - loss: 0.8010 - acc: 0.6470\n",
      "Epoch 00001: val_acc improved from -inf to 0.71912, saving model to HAR_weights.hdf5\n",
      "36869/36869 [==============================] - 4s 99us/step - loss: 0.8010 - acc: 0.6470 - val_loss: 0.7028 - val_acc: 0.7191\n",
      "Epoch 2/50\n",
      "36864/36869 [============================>.] - ETA: 0s - loss: 0.6138 - acc: 0.7130\n",
      "Epoch 00002: val_acc did not improve\n",
      "36869/36869 [==============================] - 1s 37us/step - loss: 0.6138 - acc: 0.7130 - val_loss: 0.7595 - val_acc: 0.6760\n",
      "Epoch 3/50\n",
      "35584/36869 [===========================>..] - ETA: 0s - loss: 0.6094 - acc: 0.7375\n",
      "Epoch 00003: val_acc improved from 0.71912 to 0.72205, saving model to HAR_weights.hdf5\n",
      "36869/36869 [==============================] - 1s 40us/step - loss: 0.6073 - acc: 0.7380 - val_loss: 0.6574 - val_acc: 0.7221\n",
      "Epoch 4/50\n",
      "36864/36869 [============================>.] - ETA: 0s - loss: 0.7019 - acc: 0.7104\n",
      "Epoch 00004: val_acc did not improve\n",
      "36869/36869 [==============================] - 2s 41us/step - loss: 0.7019 - acc: 0.7104 - val_loss: 0.6745 - val_acc: 0.7043\n",
      "Epoch 5/50\n",
      "36352/36869 [============================>.] - ETA: 0s - loss: 0.5438 - acc: 0.7726\n",
      "Epoch 00005: val_acc improved from 0.72205 to 0.72474, saving model to HAR_weights.hdf5\n",
      "36869/36869 [==============================] - 1s 41us/step - loss: 0.5433 - acc: 0.7730 - val_loss: 0.7033 - val_acc: 0.7247\n",
      "Epoch 6/50\n",
      "36864/36869 [============================>.] - ETA: 0s - loss: 0.5241 - acc: 0.7820\n",
      "Epoch 00006: val_acc improved from 0.72474 to 0.76648, saving model to HAR_weights.hdf5\n",
      "36869/36869 [==============================] - 1s 40us/step - loss: 0.5242 - acc: 0.7820 - val_loss: 0.5843 - val_acc: 0.7665\n",
      "Epoch 7/50\n",
      "36096/36869 [============================>.] - ETA: 0s - loss: 0.5848 - acc: 0.7420\n",
      "Epoch 00007: val_acc improved from 0.76648 to 0.77168, saving model to HAR_weights.hdf5\n",
      "36869/36869 [==============================] - 1s 40us/step - loss: 0.5835 - acc: 0.7425 - val_loss: 0.5111 - val_acc: 0.7717\n",
      "Epoch 8/50\n",
      "36096/36869 [============================>.] - ETA: 0s - loss: 0.4645 - acc: 0.7912\n",
      "Epoch 00008: val_acc improved from 0.77168 to 0.78153, saving model to HAR_weights.hdf5\n",
      "36869/36869 [==============================] - 2s 42us/step - loss: 0.4634 - acc: 0.7920 - val_loss: 0.5700 - val_acc: 0.7815\n",
      "Epoch 9/50\n",
      "36352/36869 [============================>.] - ETA: 0s - loss: 0.5591 - acc: 0.7710\n",
      "Epoch 00009: val_acc did not improve\n",
      "36869/36869 [==============================] - 1s 38us/step - loss: 0.5591 - acc: 0.7712 - val_loss: 0.6260 - val_acc: 0.7526\n",
      "Epoch 10/50\n",
      "36352/36869 [============================>.] - ETA: 0s - loss: 0.6285 - acc: 0.6147\n",
      "Epoch 00010: val_acc improved from 0.78153 to 0.81204, saving model to HAR_weights.hdf5\n",
      "36869/36869 [==============================] - 2s 43us/step - loss: 0.6262 - acc: 0.6173 - val_loss: 0.4388 - val_acc: 0.8120\n",
      "Epoch 11/50\n",
      "35584/36869 [===========================>..] - ETA: 0s - loss: 0.4043 - acc: 0.8319\n",
      "Epoch 00011: val_acc improved from 0.81204 to 0.81977, saving model to HAR_weights.hdf5\n",
      "36869/36869 [==============================] - 1s 40us/step - loss: 0.4031 - acc: 0.8325 - val_loss: 0.5065 - val_acc: 0.8198\n",
      "Epoch 12/50\n",
      "35584/36869 [===========================>..] - ETA: 0s - loss: 0.3617 - acc: 0.8497\n",
      "Epoch 00012: val_acc did not improve\n",
      "36869/36869 [==============================] - 1s 34us/step - loss: 0.3602 - acc: 0.8504 - val_loss: 0.7356 - val_acc: 0.7893\n",
      "Epoch 13/50\n",
      "36608/36869 [============================>.] - ETA: 0s - loss: 0.4299 - acc: 0.8301\n",
      "Epoch 00013: val_acc did not improve\n",
      "\n",
      "Epoch 00013: ReduceLROnPlateau reducing learning rate to 0.0009999999776482583.\n",
      "36869/36869 [==============================] - 2s 45us/step - loss: 0.4301 - acc: 0.8303 - val_loss: 0.5645 - val_acc: 0.7968\n",
      "Epoch 14/50\n",
      "35328/36869 [===========================>..] - ETA: 0s - loss: 0.3186 - acc: 0.8713\n",
      "Epoch 00014: val_acc improved from 0.81977 to 0.88739, saving model to HAR_weights.hdf5\n",
      "36869/36869 [==============================] - 1s 40us/step - loss: 0.3178 - acc: 0.8711 - val_loss: 0.2761 - val_acc: 0.8874\n",
      "Epoch 15/50\n",
      "36352/36869 [============================>.] - ETA: 0s - loss: 0.2815 - acc: 0.8820\n",
      "Epoch 00015: val_acc improved from 0.88739 to 0.88999, saving model to HAR_weights.hdf5\n",
      "36869/36869 [==============================] - 1s 40us/step - loss: 0.2812 - acc: 0.8821 - val_loss: 0.2687 - val_acc: 0.8900\n",
      "Epoch 16/50\n",
      "36096/36869 [============================>.] - ETA: 0s - loss: 0.2650 - acc: 0.8887\n",
      "Epoch 00016: val_acc improved from 0.88999 to 0.89341, saving model to HAR_weights.hdf5\n",
      "36869/36869 [==============================] - 1s 37us/step - loss: 0.2655 - acc: 0.8885 - val_loss: 0.2550 - val_acc: 0.8934\n",
      "Epoch 17/50\n",
      "36352/36869 [============================>.] - ETA: 0s - loss: 0.2657 - acc: 0.8893\n",
      "Epoch 00017: val_acc improved from 0.89341 to 0.90138, saving model to HAR_weights.hdf5\n",
      "36869/36869 [==============================] - 1s 39us/step - loss: 0.2649 - acc: 0.8897 - val_loss: 0.2430 - val_acc: 0.9014\n",
      "Epoch 18/50\n",
      "36864/36869 [============================>.] - ETA: 0s - loss: 0.2469 - acc: 0.8967\n",
      "Epoch 00018: val_acc improved from 0.90138 to 0.90456, saving model to HAR_weights.hdf5\n",
      "36869/36869 [==============================] - 1s 40us/step - loss: 0.2468 - acc: 0.8967 - val_loss: 0.2379 - val_acc: 0.9046\n",
      "Epoch 19/50\n",
      "35840/36869 [============================>.] - ETA: 0s - loss: 0.2364 - acc: 0.9020\n",
      "Epoch 00019: val_acc improved from 0.90456 to 0.91302, saving model to HAR_weights.hdf5\n",
      "36869/36869 [==============================] - 1s 39us/step - loss: 0.2363 - acc: 0.9021 - val_loss: 0.2192 - val_acc: 0.9130\n",
      "Epoch 20/50\n",
      "35584/36869 [===========================>..] - ETA: 0s - loss: 0.2319 - acc: 0.9030\n",
      "Epoch 00020: val_acc did not improve\n",
      "36869/36869 [==============================] - 1s 38us/step - loss: 0.2316 - acc: 0.9031 - val_loss: 0.2175 - val_acc: 0.9105\n",
      "Epoch 21/50\n",
      "35584/36869 [===========================>..] - ETA: 0s - loss: 0.2291 - acc: 0.9050\n",
      "Epoch 00021: val_acc improved from 0.91302 to 0.91627, saving model to HAR_weights.hdf5\n",
      "36869/36869 [==============================] - 2s 43us/step - loss: 0.2292 - acc: 0.9053 - val_loss: 0.2098 - val_acc: 0.9163\n",
      "Epoch 22/50\n",
      "36096/36869 [============================>.] - ETA: 0s - loss: 0.2273 - acc: 0.9059\n",
      "Epoch 00022: val_acc did not improve\n",
      "36869/36869 [==============================] - 1s 39us/step - loss: 0.2272 - acc: 0.9062 - val_loss: 0.2126 - val_acc: 0.9143\n",
      "Epoch 23/50\n",
      "36352/36869 [============================>.] - ETA: 0s - loss: 0.2144 - acc: 0.9104\n",
      "Epoch 00023: val_acc improved from 0.91627 to 0.92018, saving model to HAR_weights.hdf5\n",
      "36869/36869 [==============================] - 1s 40us/step - loss: 0.2147 - acc: 0.9103 - val_loss: 0.1999 - val_acc: 0.9202\n",
      "Epoch 24/50\n",
      "36608/36869 [============================>.] - ETA: 0s - loss: 0.2093 - acc: 0.9126\n",
      "Epoch 00024: val_acc did not improve\n",
      "36869/36869 [==============================] - 1s 34us/step - loss: 0.2098 - acc: 0.9126 - val_loss: 0.2140 - val_acc: 0.9088\n",
      "Epoch 25/50\n",
      "35584/36869 [===========================>..] - ETA: 0s - loss: 0.2364 - acc: 0.9022\n",
      "Epoch 00025: val_acc improved from 0.92018 to 0.92172, saving model to HAR_weights.hdf5\n",
      "36869/36869 [==============================] - 1s 40us/step - loss: 0.2354 - acc: 0.9027 - val_loss: 0.1983 - val_acc: 0.9217\n",
      "Epoch 26/50\n",
      "35328/36869 [===========================>..] - ETA: 0s - loss: 0.2129 - acc: 0.9128\n",
      "Epoch 00026: val_acc improved from 0.92172 to 0.92189, saving model to HAR_weights.hdf5\n",
      "36869/36869 [==============================] - 1s 40us/step - loss: 0.2123 - acc: 0.9129 - val_loss: 0.1894 - val_acc: 0.9219\n",
      "Epoch 27/50\n",
      "35584/36869 [===========================>..] - ETA: 0s - loss: 0.1991 - acc: 0.9163\n",
      "Epoch 00027: val_acc improved from 0.92189 to 0.92457, saving model to HAR_weights.hdf5\n",
      "36869/36869 [==============================] - 1s 39us/step - loss: 0.1998 - acc: 0.9158 - val_loss: 0.1869 - val_acc: 0.9246\n",
      "Epoch 28/50\n",
      "36864/36869 [============================>.] - ETA: 0s - loss: 0.1907 - acc: 0.9191\n",
      "Epoch 00028: val_acc improved from 0.92457 to 0.92539, saving model to HAR_weights.hdf5\n"
     ]
    },
    {
     "name": "stdout",
     "output_type": "stream",
     "text": [
      "36869/36869 [==============================] - 1s 36us/step - loss: 0.1908 - acc: 0.9190 - val_loss: 0.1817 - val_acc: 0.9254\n",
      "Epoch 29/50\n",
      "35840/36869 [============================>.] - ETA: 0s - loss: 0.1924 - acc: 0.9195\n",
      "Epoch 00029: val_acc improved from 0.92539 to 0.92766, saving model to HAR_weights.hdf5\n",
      "36869/36869 [==============================] - 1s 39us/step - loss: 0.1923 - acc: 0.9194 - val_loss: 0.1804 - val_acc: 0.9277\n",
      "Epoch 30/50\n",
      "36352/36869 [============================>.] - ETA: 0s - loss: 0.1904 - acc: 0.9208\n",
      "Epoch 00030: val_acc improved from 0.92766 to 0.92856, saving model to HAR_weights.hdf5\n",
      "36869/36869 [==============================] - 1s 40us/step - loss: 0.1908 - acc: 0.9208 - val_loss: 0.1764 - val_acc: 0.9286\n",
      "Epoch 31/50\n",
      "36352/36869 [============================>.] - ETA: 0s - loss: 0.2099 - acc: 0.9145\n",
      "Epoch 00031: val_acc improved from 0.92856 to 0.93068, saving model to HAR_weights.hdf5\n",
      "36869/36869 [==============================] - 2s 42us/step - loss: 0.2094 - acc: 0.9149 - val_loss: 0.1714 - val_acc: 0.9307\n",
      "Epoch 32/50\n",
      "36352/36869 [============================>.] - ETA: 0s - loss: 0.1865 - acc: 0.9241\n",
      "Epoch 00032: val_acc improved from 0.93068 to 0.93556, saving model to HAR_weights.hdf5\n",
      "36869/36869 [==============================] - 1s 38us/step - loss: 0.1868 - acc: 0.9238 - val_loss: 0.1653 - val_acc: 0.9356\n",
      "Epoch 33/50\n",
      "36352/36869 [============================>.] - ETA: 0s - loss: 0.1814 - acc: 0.9264\n",
      "Epoch 00033: val_acc did not improve\n",
      "36869/36869 [==============================] - 1s 37us/step - loss: 0.1817 - acc: 0.9264 - val_loss: 0.1725 - val_acc: 0.9318\n",
      "Epoch 34/50\n",
      "35840/36869 [============================>.] - ETA: 0s - loss: 0.1794 - acc: 0.9283\n",
      "Epoch 00034: val_acc improved from 0.93556 to 0.93572, saving model to HAR_weights.hdf5\n",
      "36869/36869 [==============================] - 1s 40us/step - loss: 0.1788 - acc: 0.9286 - val_loss: 0.1606 - val_acc: 0.9357\n",
      "Epoch 35/50\n",
      "36608/36869 [============================>.] - ETA: 0s - loss: 0.1723 - acc: 0.9281\n",
      "Epoch 00035: val_acc improved from 0.93572 to 0.94003, saving model to HAR_weights.hdf5\n",
      "36869/36869 [==============================] - 1s 40us/step - loss: 0.1730 - acc: 0.9281 - val_loss: 0.1591 - val_acc: 0.9400\n",
      "Epoch 36/50\n",
      "36352/36869 [============================>.] - ETA: 0s - loss: 0.1778 - acc: 0.9279\n",
      "Epoch 00036: val_acc did not improve\n",
      "36869/36869 [==============================] - 1s 34us/step - loss: 0.1779 - acc: 0.9280 - val_loss: 0.1641 - val_acc: 0.9340\n",
      "Epoch 37/50\n",
      "35840/36869 [============================>.] - ETA: 0s - loss: 0.1729 - acc: 0.9305\n",
      "Epoch 00037: val_acc improved from 0.94003 to 0.94060, saving model to HAR_weights.hdf5\n",
      "36869/36869 [==============================] - 1s 39us/step - loss: 0.1725 - acc: 0.9306 - val_loss: 0.1585 - val_acc: 0.9406\n",
      "Epoch 38/50\n",
      "36352/36869 [============================>.] - ETA: 0s - loss: 0.1680 - acc: 0.9335\n",
      "Epoch 00038: val_acc improved from 0.94060 to 0.94426, saving model to HAR_weights.hdf5\n",
      "36869/36869 [==============================] - 1s 40us/step - loss: 0.1686 - acc: 0.9336 - val_loss: 0.1510 - val_acc: 0.9443\n",
      "Epoch 39/50\n",
      "36864/36869 [============================>.] - ETA: 0s - loss: 0.1696 - acc: 0.9337\n",
      "Epoch 00039: val_acc did not improve\n",
      "36869/36869 [==============================] - 1s 36us/step - loss: 0.1696 - acc: 0.9337 - val_loss: 0.1536 - val_acc: 0.9433\n",
      "Epoch 40/50\n",
      "35584/36869 [===========================>..] - ETA: 0s - loss: 0.1625 - acc: 0.9363\n",
      "Epoch 00040: val_acc improved from 0.94426 to 0.94768, saving model to HAR_weights.hdf5\n",
      "36869/36869 [==============================] - 1s 36us/step - loss: 0.1631 - acc: 0.9362 - val_loss: 0.1441 - val_acc: 0.9477\n",
      "Epoch 41/50\n",
      "35584/36869 [===========================>..] - ETA: 0s - loss: 0.1682 - acc: 0.9344\n",
      "Epoch 00041: val_acc did not improve\n",
      "36869/36869 [==============================] - 1s 36us/step - loss: 0.1675 - acc: 0.9350 - val_loss: 0.1496 - val_acc: 0.9433\n",
      "Epoch 42/50\n",
      "35840/36869 [============================>.] - ETA: 0s - loss: 0.1655 - acc: 0.9375\n",
      "Epoch 00042: val_acc improved from 0.94768 to 0.94809, saving model to HAR_weights.hdf5\n",
      "36869/36869 [==============================] - 2s 41us/step - loss: 0.1656 - acc: 0.9372 - val_loss: 0.1430 - val_acc: 0.9481\n",
      "Epoch 43/50\n",
      "35328/36869 [===========================>..] - ETA: 0s - loss: 0.1549 - acc: 0.9411\n",
      "Epoch 00043: val_acc improved from 0.94809 to 0.95037, saving model to HAR_weights.hdf5\n",
      "36869/36869 [==============================] - 2s 42us/step - loss: 0.1548 - acc: 0.9413 - val_loss: 0.1442 - val_acc: 0.9504\n",
      "Epoch 44/50\n",
      "35584/36869 [===========================>..] - ETA: 0s - loss: 0.1741 - acc: 0.9354\n",
      "Epoch 00044: val_acc improved from 0.95037 to 0.95085, saving model to HAR_weights.hdf5\n",
      "36869/36869 [==============================] - 1s 38us/step - loss: 0.1737 - acc: 0.9354 - val_loss: 0.1393 - val_acc: 0.9509\n",
      "Epoch 45/50\n",
      "36864/36869 [============================>.] - ETA: 0s - loss: 0.1540 - acc: 0.9427\n",
      "Epoch 00045: val_acc did not improve\n",
      "36869/36869 [==============================] - 1s 37us/step - loss: 0.1540 - acc: 0.9427 - val_loss: 0.1367 - val_acc: 0.9501\n",
      "Epoch 46/50\n",
      "36352/36869 [============================>.] - ETA: 0s - loss: 0.1473 - acc: 0.9447\n",
      "Epoch 00046: val_acc improved from 0.95085 to 0.95094, saving model to HAR_weights.hdf5\n",
      "\n",
      "Epoch 00046: ReduceLROnPlateau reducing learning rate to 9.999999310821295e-05.\n",
      "36869/36869 [==============================] - 2s 42us/step - loss: 0.1475 - acc: 0.9447 - val_loss: 0.1336 - val_acc: 0.9509\n",
      "Epoch 47/50\n",
      "36864/36869 [============================>.] - ETA: 0s - loss: 0.1463 - acc: 0.9456\n",
      "Epoch 00047: val_acc improved from 0.95094 to 0.95378, saving model to HAR_weights.hdf5\n",
      "36869/36869 [==============================] - 2s 42us/step - loss: 0.1465 - acc: 0.9455 - val_loss: 0.1304 - val_acc: 0.9538\n",
      "Epoch 48/50\n",
      "35840/36869 [============================>.] - ETA: 0s - loss: 0.1451 - acc: 0.9459\n",
      "Epoch 00048: val_acc improved from 0.95378 to 0.95452, saving model to HAR_weights.hdf5\n",
      "36869/36869 [==============================] - 1s 36us/step - loss: 0.1446 - acc: 0.9460 - val_loss: 0.1309 - val_acc: 0.9545\n",
      "Epoch 49/50\n",
      "35584/36869 [===========================>..] - ETA: 0s - loss: 0.1442 - acc: 0.9467\n",
      "Epoch 00049: val_acc did not improve\n",
      "36869/36869 [==============================] - 1s 38us/step - loss: 0.1444 - acc: 0.9463 - val_loss: 0.1302 - val_acc: 0.9543\n",
      "Epoch 50/50\n",
      "35840/36869 [============================>.] - ETA: 0s - loss: 0.1442 - acc: 0.9463\n",
      "Epoch 00050: val_acc did not improve\n",
      "\n",
      "Epoch 00050: ReduceLROnPlateau reducing learning rate to 9.999999019782991e-06.\n",
      "36869/36869 [==============================] - 1s 41us/step - loss: 0.1445 - acc: 0.9460 - val_loss: 0.1302 - val_acc: 0.9541\n"
     ]
    }
   ],
   "source": [
    "history = model.fit(trainX, trainY , epochs=50 , batch_size=256 , validation_data=(testX, testY) , callbacks=[checkpoint,lr_reduce])"
   ]
  },
  {
   "cell_type": "code",
   "execution_count": 64,
   "metadata": {},
   "outputs": [],
   "source": [
    "# Visualization\n",
    "from matplotlib import pyplot as plt\n",
    "import seaborn as sns\n",
    "%matplotlib inline\n",
    "import warnings\n",
    "warnings.filterwarnings('ignore')\n",
    "\n",
    "sns.set_style(\"darkgrid\")"
   ]
  },
  {
   "cell_type": "code",
   "execution_count": 42,
   "metadata": {},
   "outputs": [
    {
     "data": {
      "image/png": "[encoded data removed]",
      "text/plain": [
       "<Figure size 720x288 with 1 Axes>"
      ]
     },
     "metadata": {},
     "output_type": "display_data"
    },
    {
     "data": {
      "image/png": "[encoded data removed]",
      "text/plain": [
       "<Figure size 720x288 with 1 Axes>"
      ]
     },
     "metadata": {},
     "output_type": "display_data"
    }
   ],
   "source": [
    "from pylab import rcParams\n",
    "rcParams['figure.figsize'] = 10, 4\n",
    "plt.plot(history.history['acc'])\n",
    "plt.plot(history.history['val_acc'])\n",
    "plt.title('model accuracy')\n",
    "plt.ylabel('accuracy')\n",
    "plt.xlabel('epoch')\n",
    "plt.legend(['train', 'test'], loc='upper left')\n",
    "plt.show()\n",
    "# summarize history for loss\n",
    "plt.plot(history.history['loss'])\n",
    "plt.plot(history.history['val_loss'])\n",
    "plt.title('model loss')\n",
    "plt.ylabel('loss')\n",
    "plt.xlabel('epoch')\n",
    "plt.legend(['train', 'test'], loc='upper left')\n",
    "plt.show()"
   ]
  },
  {
   "cell_type": "code",
   "execution_count": 43,
   "metadata": {},
   "outputs": [
    {
     "name": "stdout",
     "output_type": "stream",
     "text": [
      "[INFO] evaluating network...\n",
      "[[2822  159   37    0    3]\n",
      " [  81 2867   17    0    0]\n",
      " [ 146   83 2090    0   87]\n",
      " [   0    0    0 2696    0]\n",
      " [  22    6  103    0 1071]]\n"
     ]
    }
   ],
   "source": [
    "# Evaluate the network\n",
    "print(\"[INFO] evaluating network...\")\n",
    "from sklearn.metrics import classification_report , accuracy_score\n",
    "from sklearn.metrics import confusion_matrix\n",
    "model.load_weights(\"HAR_weights.hdf5\")\n",
    "y_pred = model.predict(testX)\n",
    "y_pred = np.argmax(y_pred, axis=1) \n",
    "\n",
    "cm = confusion_matrix(testY, y_pred)\n",
    "print(cm)"
   ]
  },
  {
   "cell_type": "code",
   "execution_count": 44,
   "metadata": {},
   "outputs": [
    {
     "name": "stdout",
     "output_type": "stream",
     "text": [
      "             precision    recall  f1-score   support\n",
      "\n",
      "          0       0.92      0.93      0.93      3021\n",
      "          1       0.92      0.97      0.94      2965\n",
      "          2       0.93      0.87      0.90      2406\n",
      "          3       1.00      1.00      1.00      2696\n",
      "          4       0.92      0.89      0.91      1202\n",
      "\n",
      "avg / total       0.94      0.94      0.94     12290\n",
      "\n"
     ]
    }
   ],
   "source": [
    "print(classification_report(testY, y_pred))"
   ]
  },
  {
   "cell_type": "code",
   "execution_count": 221,
   "metadata": {},
   "outputs": [
    {
     "data": {
      "image/png": "[encoded data removed]",
      "text/plain": [
       "<Figure size 720x360 with 1 Axes>"
      ]
     },
     "metadata": {},
     "output_type": "display_data"
    }
   ],
   "source": [
    "from mlxtend.plotting import plot_confusion_matrix\n",
    "fig, ax = plot_confusion_matrix(conf_mat=cm ,  figsize=(10, 5))\n",
    "plt.show()"
   ]
  },
  {
   "cell_type": "code",
   "execution_count": 222,
   "metadata": {},
   "outputs": [
    {
     "data": {
      "image/png": "[encoded data removed]",
      "text/plain": [
       "<Figure size 720x432 with 1 Axes>"
      ]
     },
     "metadata": {},
     "output_type": "display_data"
    }
   ],
   "source": [
    "from pylab import rcParams\n",
    "rcParams['figure.figsize'] = 10, 6\n",
    "plt.plot(history.history['acc'], label=\"train_acc\")\n",
    "plt.plot(history.history['val_acc'], label=\"val_loss\")\n",
    "plt.plot(history.history['loss'], label=\"train_loss\")\n",
    "plt.plot(history.history['val_loss'], label=\"val_loss\")\n",
    "plt.title('Training Loss and Accuracy')\n",
    "plt.ylabel('loss/accuracy')\n",
    "plt.xlabel('epoch')\n",
    "plt.legend(loc='upper right')\n",
    "plt.show()"
   ]
  },
  {
   "cell_type": "code",
   "execution_count": null,
   "metadata": {},
   "outputs": [],
   "source": []
  }
 ],
 "metadata": {
  "kernelspec": {
   "display_name": "Python 3",
   "language": "python",
   "name": "python3"
  },
  "language_info": {
   "codemirror_mode": {
    "name": "ipython",
    "version": 3
   },
   "file_extension": ".py",
   "mimetype": "text/x-python",
   "name": "python",
   "nbconvert_exporter": "python",
   "pygments_lexer": "ipython3",
   "version": "3.7.4"
  }
 },
 "nbformat": 4,
 "nbformat_minor": 2
}
