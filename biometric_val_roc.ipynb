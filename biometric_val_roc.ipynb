{
 "cells": [
  {
   "cell_type": "code",
   "execution_count": 172,
   "metadata": {},
   "outputs": [],
   "source": [
    "import pandas as pd\n",
    "import numpy as np\n",
    "import os\n",
    "\n",
    "from sklearn.preprocessing import label_binarize\n",
    "from sklearn.multiclass import OneVsRestClassifier\n",
    "from sklearn.metrics import roc_curve, auc\n",
    "\n",
    "# Visualization\n",
    "\n",
    "from matplotlib import pyplot as plt\n",
    "import seaborn as sns\n",
    "%matplotlib inline\n",
    "import warnings\n",
    "warnings.filterwarnings('ignore')\n",
    "\n",
    "sns.set_style(\"darkgrid\")"
   ]
  },
  {
   "cell_type": "code",
   "execution_count": 173,
   "metadata": {},
   "outputs": [],
   "source": [
    "bioData = pd.read_csv(\"dataset.csv\")"
   ]
  },
  {
   "cell_type": "code",
   "execution_count": 174,
   "metadata": {},
   "outputs": [
    {
     "data": {
      "text/html": [
       "<div>\n",
       "<style scoped>\n",
       "    .dataframe tbody tr th:only-of-type {\n",
       "        vertical-align: middle;\n",
       "    }\n",
       "\n",
       "    .dataframe tbody tr th {\n",
       "        vertical-align: top;\n",
       "    }\n",
       "\n",
       "    .dataframe thead th {\n",
       "        text-align: right;\n",
       "    }\n",
       "</style>\n",
       "<table border=\"1\" class=\"dataframe\">\n",
       "  <thead>\n",
       "    <tr style=\"text-align: right;\">\n",
       "      <th></th>\n",
       "      <th>Date</th>\n",
       "      <th>Time</th>\n",
       "      <th>RP</th>\n",
       "      <th>RC</th>\n",
       "      <th>RR</th>\n",
       "      <th>BV</th>\n",
       "      <th>MV</th>\n",
       "      <th>DTCY</th>\n",
       "      <th>ACT</th>\n",
       "      <th>SUB</th>\n",
       "    </tr>\n",
       "  </thead>\n",
       "  <tbody>\n",
       "    <tr>\n",
       "      <th>0</th>\n",
       "      <td>9/1/2018</td>\n",
       "      <td>16:48:08:291</td>\n",
       "      <td>35.98228</td>\n",
       "      <td>0</td>\n",
       "      <td>20</td>\n",
       "      <td>0.879047</td>\n",
       "      <td>17.58095</td>\n",
       "      <td>66</td>\n",
       "      <td>Reading</td>\n",
       "      <td>Andrew</td>\n",
       "    </tr>\n",
       "    <tr>\n",
       "      <th>1</th>\n",
       "      <td>9/1/2018</td>\n",
       "      <td>16:48:08:352</td>\n",
       "      <td>36.07199</td>\n",
       "      <td>0</td>\n",
       "      <td>20</td>\n",
       "      <td>0.879047</td>\n",
       "      <td>17.58095</td>\n",
       "      <td>66</td>\n",
       "      <td>Reading</td>\n",
       "      <td>Andrew</td>\n",
       "    </tr>\n",
       "    <tr>\n",
       "      <th>2</th>\n",
       "      <td>9/1/2018</td>\n",
       "      <td>16:48:08:396</td>\n",
       "      <td>36.11691</td>\n",
       "      <td>0</td>\n",
       "      <td>20</td>\n",
       "      <td>0.879047</td>\n",
       "      <td>17.58095</td>\n",
       "      <td>66</td>\n",
       "      <td>Reading</td>\n",
       "      <td>Andrew</td>\n",
       "    </tr>\n",
       "    <tr>\n",
       "      <th>3</th>\n",
       "      <td>9/1/2018</td>\n",
       "      <td>16:48:08:441</td>\n",
       "      <td>36.16188</td>\n",
       "      <td>0</td>\n",
       "      <td>20</td>\n",
       "      <td>0.879047</td>\n",
       "      <td>17.58095</td>\n",
       "      <td>66</td>\n",
       "      <td>Reading</td>\n",
       "      <td>Andrew</td>\n",
       "    </tr>\n",
       "    <tr>\n",
       "      <th>4</th>\n",
       "      <td>9/1/2018</td>\n",
       "      <td>16:48:08:502</td>\n",
       "      <td>36.25196</td>\n",
       "      <td>0</td>\n",
       "      <td>20</td>\n",
       "      <td>0.879047</td>\n",
       "      <td>17.58095</td>\n",
       "      <td>66</td>\n",
       "      <td>Reading</td>\n",
       "      <td>Andrew</td>\n",
       "    </tr>\n",
       "  </tbody>\n",
       "</table>\n",
       "</div>"
      ],
      "text/plain": [
       "       Date          Time        RP  RC  RR        BV        MV  DTCY  \\\n",
       "0  9/1/2018  16:48:08:291  35.98228   0  20  0.879047  17.58095    66   \n",
       "1  9/1/2018  16:48:08:352  36.07199   0  20  0.879047  17.58095    66   \n",
       "2  9/1/2018  16:48:08:396  36.11691   0  20  0.879047  17.58095    66   \n",
       "3  9/1/2018  16:48:08:441  36.16188   0  20  0.879047  17.58095    66   \n",
       "4  9/1/2018  16:48:08:502  36.25196   0  20  0.879047  17.58095    66   \n",
       "\n",
       "       ACT     SUB  \n",
       "0  Reading  Andrew  \n",
       "1  Reading  Andrew  \n",
       "2  Reading  Andrew  \n",
       "3  Reading  Andrew  \n",
       "4  Reading  Andrew  "
      ]
     },
     "execution_count": 174,
     "metadata": {},
     "output_type": "execute_result"
    }
   ],
   "source": [
    "bioData.head()"
   ]
  },
  {
   "cell_type": "code",
   "execution_count": 175,
   "metadata": {},
   "outputs": [],
   "source": [
    "# Lets change the SUB categorical value into numerics\n",
    "# Andrew, Betty, Charles, Coll, FD, Isan, Mel, Niuli, Sunwan, Zhao\n",
    "temp = []\n",
    "for i in bioData.SUB:\n",
    "    if i == \"Andrew\": temp.append(0)\n",
    "    if i == \"Betty\": temp.append(1)\n",
    "    if i == \"Charles\": temp.append(2)\n",
    "    if i == \"Coll\": temp.append(3)\n",
    "    if i == \"FD\": temp.append(4)\n",
    "    if i == \"Isan\": temp.append(5)\n",
    "    if i == \"Mel\": temp.append(6)\n",
    "    if i == \"Niuli\": temp.append(7)\n",
    "    if i == \"Sunwan\": temp.append(8)\n",
    "    if i == \"Zhao\": temp.append(9)\n",
    "bioData[\"n_Subject\"] = temp"
   ]
  },
  {
   "cell_type": "code",
   "execution_count": 176,
   "metadata": {},
   "outputs": [
    {
     "data": {
      "text/html": [
       "<div>\n",
       "<style scoped>\n",
       "    .dataframe tbody tr th:only-of-type {\n",
       "        vertical-align: middle;\n",
       "    }\n",
       "\n",
       "    .dataframe tbody tr th {\n",
       "        vertical-align: top;\n",
       "    }\n",
       "\n",
       "    .dataframe thead th {\n",
       "        text-align: right;\n",
       "    }\n",
       "</style>\n",
       "<table border=\"1\" class=\"dataframe\">\n",
       "  <thead>\n",
       "    <tr style=\"text-align: right;\">\n",
       "      <th></th>\n",
       "      <th>Date</th>\n",
       "      <th>Time</th>\n",
       "      <th>RP</th>\n",
       "      <th>RC</th>\n",
       "      <th>RR</th>\n",
       "      <th>BV</th>\n",
       "      <th>MV</th>\n",
       "      <th>DTCY</th>\n",
       "      <th>ACT</th>\n",
       "      <th>SUB</th>\n",
       "      <th>n_Subject</th>\n",
       "    </tr>\n",
       "  </thead>\n",
       "  <tbody>\n",
       "    <tr>\n",
       "      <th>0</th>\n",
       "      <td>9/1/2018</td>\n",
       "      <td>16:48:08:291</td>\n",
       "      <td>35.98228</td>\n",
       "      <td>0</td>\n",
       "      <td>20</td>\n",
       "      <td>0.879047</td>\n",
       "      <td>17.58095</td>\n",
       "      <td>66</td>\n",
       "      <td>Reading</td>\n",
       "      <td>Andrew</td>\n",
       "      <td>0</td>\n",
       "    </tr>\n",
       "    <tr>\n",
       "      <th>1</th>\n",
       "      <td>9/1/2018</td>\n",
       "      <td>16:48:08:352</td>\n",
       "      <td>36.07199</td>\n",
       "      <td>0</td>\n",
       "      <td>20</td>\n",
       "      <td>0.879047</td>\n",
       "      <td>17.58095</td>\n",
       "      <td>66</td>\n",
       "      <td>Reading</td>\n",
       "      <td>Andrew</td>\n",
       "      <td>0</td>\n",
       "    </tr>\n",
       "    <tr>\n",
       "      <th>2</th>\n",
       "      <td>9/1/2018</td>\n",
       "      <td>16:48:08:396</td>\n",
       "      <td>36.11691</td>\n",
       "      <td>0</td>\n",
       "      <td>20</td>\n",
       "      <td>0.879047</td>\n",
       "      <td>17.58095</td>\n",
       "      <td>66</td>\n",
       "      <td>Reading</td>\n",
       "      <td>Andrew</td>\n",
       "      <td>0</td>\n",
       "    </tr>\n",
       "    <tr>\n",
       "      <th>3</th>\n",
       "      <td>9/1/2018</td>\n",
       "      <td>16:48:08:441</td>\n",
       "      <td>36.16188</td>\n",
       "      <td>0</td>\n",
       "      <td>20</td>\n",
       "      <td>0.879047</td>\n",
       "      <td>17.58095</td>\n",
       "      <td>66</td>\n",
       "      <td>Reading</td>\n",
       "      <td>Andrew</td>\n",
       "      <td>0</td>\n",
       "    </tr>\n",
       "    <tr>\n",
       "      <th>4</th>\n",
       "      <td>9/1/2018</td>\n",
       "      <td>16:48:08:502</td>\n",
       "      <td>36.25196</td>\n",
       "      <td>0</td>\n",
       "      <td>20</td>\n",
       "      <td>0.879047</td>\n",
       "      <td>17.58095</td>\n",
       "      <td>66</td>\n",
       "      <td>Reading</td>\n",
       "      <td>Andrew</td>\n",
       "      <td>0</td>\n",
       "    </tr>\n",
       "  </tbody>\n",
       "</table>\n",
       "</div>"
      ],
      "text/plain": [
       "       Date          Time        RP  RC  RR        BV        MV  DTCY  \\\n",
       "0  9/1/2018  16:48:08:291  35.98228   0  20  0.879047  17.58095    66   \n",
       "1  9/1/2018  16:48:08:352  36.07199   0  20  0.879047  17.58095    66   \n",
       "2  9/1/2018  16:48:08:396  36.11691   0  20  0.879047  17.58095    66   \n",
       "3  9/1/2018  16:48:08:441  36.16188   0  20  0.879047  17.58095    66   \n",
       "4  9/1/2018  16:48:08:502  36.25196   0  20  0.879047  17.58095    66   \n",
       "\n",
       "       ACT     SUB  n_Subject  \n",
       "0  Reading  Andrew          0  \n",
       "1  Reading  Andrew          0  \n",
       "2  Reading  Andrew          0  \n",
       "3  Reading  Andrew          0  \n",
       "4  Reading  Andrew          0  "
      ]
     },
     "execution_count": 176,
     "metadata": {},
     "output_type": "execute_result"
    }
   ],
   "source": [
    "bioData.head()"
   ]
  },
  {
   "cell_type": "code",
   "execution_count": 177,
   "metadata": {},
   "outputs": [],
   "source": [
    "# Now lets drop the SUB column\n",
    "bioData.drop([\"Date\", \"Time\", \"SUB\"] , axis = 1 , inplace = True)"
   ]
  },
  {
   "cell_type": "code",
   "execution_count": 178,
   "metadata": {},
   "outputs": [
    {
     "data": {
      "text/html": [
       "<div>\n",
       "<style scoped>\n",
       "    .dataframe tbody tr th:only-of-type {\n",
       "        vertical-align: middle;\n",
       "    }\n",
       "\n",
       "    .dataframe tbody tr th {\n",
       "        vertical-align: top;\n",
       "    }\n",
       "\n",
       "    .dataframe thead th {\n",
       "        text-align: right;\n",
       "    }\n",
       "</style>\n",
       "<table border=\"1\" class=\"dataframe\">\n",
       "  <thead>\n",
       "    <tr style=\"text-align: right;\">\n",
       "      <th></th>\n",
       "      <th>RP</th>\n",
       "      <th>RC</th>\n",
       "      <th>RR</th>\n",
       "      <th>BV</th>\n",
       "      <th>MV</th>\n",
       "      <th>DTCY</th>\n",
       "      <th>ACT</th>\n",
       "      <th>n_Subject</th>\n",
       "    </tr>\n",
       "  </thead>\n",
       "  <tbody>\n",
       "    <tr>\n",
       "      <th>0</th>\n",
       "      <td>35.98228</td>\n",
       "      <td>0</td>\n",
       "      <td>20</td>\n",
       "      <td>0.879047</td>\n",
       "      <td>17.58095</td>\n",
       "      <td>66</td>\n",
       "      <td>Reading</td>\n",
       "      <td>0</td>\n",
       "    </tr>\n",
       "    <tr>\n",
       "      <th>1</th>\n",
       "      <td>36.07199</td>\n",
       "      <td>0</td>\n",
       "      <td>20</td>\n",
       "      <td>0.879047</td>\n",
       "      <td>17.58095</td>\n",
       "      <td>66</td>\n",
       "      <td>Reading</td>\n",
       "      <td>0</td>\n",
       "    </tr>\n",
       "    <tr>\n",
       "      <th>2</th>\n",
       "      <td>36.11691</td>\n",
       "      <td>0</td>\n",
       "      <td>20</td>\n",
       "      <td>0.879047</td>\n",
       "      <td>17.58095</td>\n",
       "      <td>66</td>\n",
       "      <td>Reading</td>\n",
       "      <td>0</td>\n",
       "    </tr>\n",
       "    <tr>\n",
       "      <th>3</th>\n",
       "      <td>36.16188</td>\n",
       "      <td>0</td>\n",
       "      <td>20</td>\n",
       "      <td>0.879047</td>\n",
       "      <td>17.58095</td>\n",
       "      <td>66</td>\n",
       "      <td>Reading</td>\n",
       "      <td>0</td>\n",
       "    </tr>\n",
       "    <tr>\n",
       "      <th>4</th>\n",
       "      <td>36.25196</td>\n",
       "      <td>0</td>\n",
       "      <td>20</td>\n",
       "      <td>0.879047</td>\n",
       "      <td>17.58095</td>\n",
       "      <td>66</td>\n",
       "      <td>Reading</td>\n",
       "      <td>0</td>\n",
       "    </tr>\n",
       "  </tbody>\n",
       "</table>\n",
       "</div>"
      ],
      "text/plain": [
       "         RP  RC  RR        BV        MV  DTCY      ACT  n_Subject\n",
       "0  35.98228   0  20  0.879047  17.58095    66  Reading          0\n",
       "1  36.07199   0  20  0.879047  17.58095    66  Reading          0\n",
       "2  36.11691   0  20  0.879047  17.58095    66  Reading          0\n",
       "3  36.16188   0  20  0.879047  17.58095    66  Reading          0\n",
       "4  36.25196   0  20  0.879047  17.58095    66  Reading          0"
      ]
     },
     "execution_count": 178,
     "metadata": {},
     "output_type": "execute_result"
    }
   ],
   "source": [
    "bioData.head()"
   ]
  },
  {
   "cell_type": "code",
   "execution_count": 179,
   "metadata": {},
   "outputs": [],
   "source": [
    "X = bioData.iloc[:, 0:7].values\n",
    "y = bioData.iloc[:, 7].values"
   ]
  },
  {
   "cell_type": "code",
   "execution_count": null,
   "metadata": {},
   "outputs": [],
   "source": []
  },
  {
   "cell_type": "code",
   "execution_count": 180,
   "metadata": {},
   "outputs": [],
   "source": [
    "# Encoding categorical data\n",
    "from sklearn.preprocessing import LabelEncoder, OneHotEncoder, MinMaxScaler\n",
    "labelencoder_X = LabelEncoder()\n",
    "X[:, 6] = labelencoder_X.fit_transform(X[:, 6])\n",
    "\n",
    "onehotencoder = OneHotEncoder(categorical_features = [6])\n",
    "X = onehotencoder.fit_transform(X).toarray()"
   ]
  },
  {
   "cell_type": "code",
   "execution_count": 181,
   "metadata": {},
   "outputs": [],
   "source": [
    "# Take care of dummy variable trap\n",
    "# X = X[:,:-1]\n",
    "X = X[:,1:]"
   ]
  },
  {
   "cell_type": "code",
   "execution_count": 182,
   "metadata": {},
   "outputs": [
    {
     "data": {
      "text/plain": [
       "array([[ 0.       ,  0.       , 35.98228  , ...,  0.8790474, 17.58095  ,\n",
       "        66.       ],\n",
       "       [ 0.       ,  0.       , 36.07199  , ...,  0.8790474, 17.58095  ,\n",
       "        66.       ],\n",
       "       [ 0.       ,  0.       , 36.11691  , ...,  0.8790474, 17.58095  ,\n",
       "        66.       ],\n",
       "       ...,\n",
       "       [ 0.       ,  1.       , 27.1028   , ...,  0.8089771,  8.089771 ,\n",
       "        33.       ],\n",
       "       [ 0.       ,  1.       , 27.1028   , ...,  0.8089771,  8.089771 ,\n",
       "        33.       ],\n",
       "       [ 0.       ,  1.       , 27.17493  , ...,  0.8089771,  8.089771 ,\n",
       "        33.       ]])"
      ]
     },
     "execution_count": 182,
     "metadata": {},
     "output_type": "execute_result"
    }
   ],
   "source": [
    "X"
   ]
  },
  {
   "cell_type": "code",
   "execution_count": 183,
   "metadata": {},
   "outputs": [],
   "source": [
    "# 3 classes to classify\n",
    "# n_classes = 3"
   ]
  },
  {
   "cell_type": "code",
   "execution_count": 184,
   "metadata": {},
   "outputs": [],
   "source": [
    "# y = label_binarize(y, classes=[0,1,2,3,4,5,6,7,8,9])\n",
    "# n_classes = y.shape[1]"
   ]
  },
  {
   "cell_type": "code",
   "execution_count": 185,
   "metadata": {},
   "outputs": [],
   "source": [
    "# Splitting the data into training set and test set\n",
    "from sklearn.model_selection import train_test_split\n",
    "trainX, testX, trainY, testY = train_test_split(X, y, test_size=0.25, random_state=101)"
   ]
  },
  {
   "cell_type": "code",
   "execution_count": 186,
   "metadata": {},
   "outputs": [],
   "source": [
    "# Feature Scaling\n",
    "from sklearn.preprocessing import StandardScaler\n",
    "sc = StandardScaler()\n",
    "trainX = sc.fit_transform(trainX)\n",
    "testX = sc.fit_transform(testX)"
   ]
  },
  {
   "cell_type": "code",
   "execution_count": 187,
   "metadata": {},
   "outputs": [
    {
     "name": "stdout",
     "output_type": "stream",
     "text": [
      "(154671, 8) (154671,)\n",
      "(51557, 8) (51557,)\n"
     ]
    }
   ],
   "source": [
    "print(trainX.shape , trainY.shape)\n",
    "print(testX.shape , testY.shape)"
   ]
  },
  {
   "cell_type": "code",
   "execution_count": null,
   "metadata": {},
   "outputs": [],
   "source": []
  },
  {
   "cell_type": "code",
   "execution_count": 188,
   "metadata": {},
   "outputs": [],
   "source": [
    "# Part two - Time for the ANN\n",
    "# import the Keras libraries and packages\n",
    "import keras\n",
    "from keras.models import Sequential\n",
    "from keras.layers import Dense, Dropout , BatchNormalization\n",
    "from keras.utils import np_utils\n",
    "from keras.optimizers import RMSprop, Adam\n",
    "from keras import regularizers\n"
   ]
  },
  {
   "cell_type": "code",
   "execution_count": 189,
   "metadata": {},
   "outputs": [],
   "source": [
    "# Initialize the ANN\n",
    "# model = Sequential()\n",
    "\n",
    "# # Adding the input layer and the first hidden layer\n",
    "# #model.add(Dense(64, input_dim=trainX.shape[1] , activation='relu', kernel_regularizer=regularizers.l1_l2(0.001)))\n",
    "# model.add(Dense(64, input_dim=trainX.shape[1] , activation='relu'))\n",
    "# model.add(Dense(64, activation='relu'))\n",
    "# model.add(BatchNormalization())\n",
    "# model.add(Dense(128, activation='relu'))\n",
    "# model.add(Dense(196, activation='relu'))\n",
    "# model.add(Dense(32, activation='relu'))\n",
    "# model.add(Dense(10, activation='sigmoid'))\n",
    "\n",
    "# metrics_list = ['accuracy', 'mse', 'mae', 'mape', 'cosine']\n",
    "# model.compile(optimizer = Adam(lr = 0.01, decay=0.01/50),loss='sparse_categorical_crossentropy', metrics=metrics_list)"
   ]
  },
  {
   "cell_type": "code",
   "execution_count": 190,
   "metadata": {},
   "outputs": [],
   "source": [
    "# Initialize the ANN\n",
    "model = Sequential()\n",
    "\n",
    "# Adding the input layer and the first hidden layer\n",
    "model.add(Dense(64, input_dim=trainX.shape[1] , activation='relu', kernel_regularizer=regularizers.l1_l2(0.001)))\n",
    "#model.add(Dense(64, input_dim=trainX.shape[1] , activation='relu'))\n",
    "model.add(Dense(64, activation='relu'))\n",
    "model.add(BatchNormalization())\n",
    "model.add(Dense(128, activation='relu'))\n",
    "model.add(Dense(196, activation='relu'))\n",
    "model.add(Dense(32, activation='relu'))\n",
    "model.add(Dropout(0.6))\n",
    "model.add(Dense(10, activation='sigmoid'))\n",
    "\n",
    "metrics_list = ['accuracy', 'mse', 'mae', 'mape', 'cosine']\n",
    "#metrics_list = ['accuracy']"
   ]
  },
  {
   "cell_type": "code",
   "execution_count": 191,
   "metadata": {},
   "outputs": [],
   "source": [
    "# Learn to predict each class against the other\n",
    "classifier = OneVsRestClassifier(model.compile(optimizer = Adam(lr = 0.01, decay=0.01/50),loss='sparse_categorical_crossentropy', metrics=metrics_list))"
   ]
  },
  {
   "cell_type": "code",
   "execution_count": 192,
   "metadata": {},
   "outputs": [
    {
     "name": "stdout",
     "output_type": "stream",
     "text": [
      "_________________________________________________________________\n",
      "Layer (type)                 Output Shape              Param #   \n",
      "=================================================================\n",
      "dense_43 (Dense)             (None, 64)                576       \n",
      "_________________________________________________________________\n",
      "dense_44 (Dense)             (None, 64)                4160      \n",
      "_________________________________________________________________\n",
      "batch_normalization_8 (Batch (None, 64)                256       \n",
      "_________________________________________________________________\n",
      "dense_45 (Dense)             (None, 128)               8320      \n",
      "_________________________________________________________________\n",
      "dense_46 (Dense)             (None, 196)               25284     \n",
      "_________________________________________________________________\n",
      "dense_47 (Dense)             (None, 32)                6304      \n",
      "_________________________________________________________________\n",
      "dropout_3 (Dropout)          (None, 32)                0         \n",
      "_________________________________________________________________\n",
      "dense_48 (Dense)             (None, 10)                330       \n",
      "=================================================================\n",
      "Total params: 45,230\n",
      "Trainable params: 45,102\n",
      "Non-trainable params: 128\n",
      "_________________________________________________________________\n",
      "None\n"
     ]
    }
   ],
   "source": [
    "print(model.summary())"
   ]
  },
  {
   "cell_type": "code",
   "execution_count": 156,
   "metadata": {},
   "outputs": [],
   "source": [
    "#Taking necessary callbacks of checkpointing and learning rate reducer.\n",
    "filepath=\"HAR_weights.hdf5\"\n",
    "from keras.callbacks import ReduceLROnPlateau , ModelCheckpoint, LearningRateScheduler\n",
    "\n",
    "lr_reduce = ReduceLROnPlateau(monitor='val_acc', factor=0.5, epsilon=0.0001, patience=1, verbose=1)\n",
    "checkpoint = ModelCheckpoint(filepath, monitor='val_acc', verbose=1, save_best_only=True, mode='max')\n",
    "\n",
    "callbacks_list = [checkpoint,lr_reduce]"
   ]
  },
  {
   "cell_type": "code",
   "execution_count": 157,
   "metadata": {},
   "outputs": [
    {
     "name": "stdout",
     "output_type": "stream",
     "text": [
      "Train on 154671 samples, validate on 51557 samples\n",
      "Epoch 1/50\n",
      "153088/154671 [============================>.] - ETA: 0s - loss: 1.2433 - acc: 0.4695 - mean_squared_error: 26.9203 - mean_absolute_error: 4.4267 - mean_absolute_percentage_error: 18563408.3395 - cosine_proximity: -1.6250\n",
      "Epoch 00001: val_acc improved from -inf to 0.64022, saving model to HAR_weights.hdf5\n",
      "154671/154671 [==============================] - 7s 46us/step - loss: 1.2416 - acc: 0.4705 - mean_squared_error: 26.9177 - mean_absolute_error: 4.4264 - mean_absolute_percentage_error: 18495073.9896 - cosine_proximity: -1.6234 - val_loss: 0.8546 - val_acc: 0.6402 - val_mean_squared_error: 27.4063 - val_mean_absolute_error: 4.4814 - val_mean_absolute_percentage_error: 11990092.7561 - val_cosine_proximity: -1.3608\n",
      "Epoch 2/50\n",
      "154368/154671 [============================>.] - ETA: 0s - loss: 0.9444 - acc: 0.6373 - mean_squared_error: 27.9071 - mean_absolute_error: 4.5129 - mean_absolute_percentage_error: 7021066.7554 - cosine_proximity: -1.3728\n",
      "Epoch 00002: val_acc improved from 0.64022 to 0.75035, saving model to HAR_weights.hdf5\n",
      "154671/154671 [==============================] - 5s 33us/step - loss: 0.9439 - acc: 0.6375 - mean_squared_error: 27.9050 - mean_absolute_error: 4.5127 - mean_absolute_percentage_error: 7017150.3279 - cosine_proximity: -1.3726 - val_loss: 0.6664 - val_acc: 0.7504 - val_mean_squared_error: 28.1359 - val_mean_absolute_error: 4.5348 - val_mean_absolute_percentage_error: 4760261.2410 - val_cosine_proximity: -1.1911\n",
      "Epoch 3/50\n",
      "154624/154671 [============================>.] - ETA: 0s - loss: 0.8064 - acc: 0.7188 - mean_squared_error: 28.3643 - mean_absolute_error: 4.5502 - mean_absolute_percentage_error: 3785237.8704 - cosine_proximity: -1.2782\n",
      "Epoch 00003: val_acc improved from 0.75035 to 0.81196, saving model to HAR_weights.hdf5\n",
      "154671/154671 [==============================] - 5s 32us/step - loss: 0.8063 - acc: 0.7189 - mean_squared_error: 28.3648 - mean_absolute_error: 4.5503 - mean_absolute_percentage_error: 3784321.8919 - cosine_proximity: -1.2782 - val_loss: 0.5647 - val_acc: 0.8120 - val_mean_squared_error: 28.5521 - val_mean_absolute_error: 4.5669 - val_mean_absolute_percentage_error: 1809970.3008 - val_cosine_proximity: -1.1525\n",
      "Epoch 4/50\n",
      "154624/154671 [============================>.] - ETA: 0s - loss: 0.7279 - acc: 0.7524 - mean_squared_error: 28.5643 - mean_absolute_error: 4.5693 - mean_absolute_percentage_error: 2502196.1451 - cosine_proximity: -1.2341\n",
      "Epoch 00004: val_acc improved from 0.81196 to 0.82156, saving model to HAR_weights.hdf5\n",
      "154671/154671 [==============================] - 5s 34us/step - loss: 0.7278 - acc: 0.7524 - mean_squared_error: 28.5661 - mean_absolute_error: 4.5695 - mean_absolute_percentage_error: 2501435.8308 - cosine_proximity: -1.2341 - val_loss: 0.5155 - val_acc: 0.8216 - val_mean_squared_error: 28.6284 - val_mean_absolute_error: 4.5756 - val_mean_absolute_percentage_error: 1694451.3858 - val_cosine_proximity: -1.1228\n",
      "Epoch 5/50\n",
      "153344/154671 [============================>.] - ETA: 0s - loss: 0.6704 - acc: 0.7749 - mean_squared_error: 28.6438 - mean_absolute_error: 4.5761 - mean_absolute_percentage_error: 1755506.8327 - cosine_proximity: -1.2035\n",
      "Epoch 00005: val_acc did not improve\n",
      "154671/154671 [==============================] - 5s 35us/step - loss: 0.6708 - acc: 0.7746 - mean_squared_error: 28.6389 - mean_absolute_error: 4.5756 - mean_absolute_percentage_error: 1757852.6343 - cosine_proximity: -1.2034 - val_loss: 0.5496 - val_acc: 0.8163 - val_mean_squared_error: 28.6427 - val_mean_absolute_error: 4.5771 - val_mean_absolute_percentage_error: 1224728.7742 - val_cosine_proximity: -1.1129\n",
      "Epoch 6/50\n",
      "154368/154671 [============================>.] - ETA: 0s - loss: 0.6299 - acc: 0.7912 - mean_squared_error: 28.6872 - mean_absolute_error: 4.5802 - mean_absolute_percentage_error: 1316162.3458 - cosine_proximity: -1.1828\n",
      "Epoch 00006: val_acc improved from 0.82156 to 0.85509, saving model to HAR_weights.hdf5\n",
      "154671/154671 [==============================] - 6s 36us/step - loss: 0.6297 - acc: 0.7912 - mean_squared_error: 28.6857 - mean_absolute_error: 4.5800 - mean_absolute_percentage_error: 1316095.6232 - cosine_proximity: -1.1828 - val_loss: 0.4543 - val_acc: 0.8551 - val_mean_squared_error: 28.6772 - val_mean_absolute_error: 4.5804 - val_mean_absolute_percentage_error: 736744.9225 - val_cosine_proximity: -1.0752\n",
      "Epoch 7/50\n",
      "154112/154671 [============================>.] - ETA: 0s - loss: 0.5784 - acc: 0.8111 - mean_squared_error: 28.7101 - mean_absolute_error: 4.5825 - mean_absolute_percentage_error: 965978.7915 - cosine_proximity: -1.1541\n",
      "Epoch 00007: val_acc did not improve\n",
      "154671/154671 [==============================] - 5s 31us/step - loss: 0.5786 - acc: 0.8110 - mean_squared_error: 28.7120 - mean_absolute_error: 4.5828 - mean_absolute_percentage_error: 964453.3748 - cosine_proximity: -1.1541 - val_loss: 0.4707 - val_acc: 0.8468 - val_mean_squared_error: 28.6844 - val_mean_absolute_error: 4.5811 - val_mean_absolute_percentage_error: 507941.5713 - val_cosine_proximity: -1.0834\n",
      "Epoch 8/50\n",
      "153600/154671 [============================>.] - ETA: 0s - loss: 0.5632 - acc: 0.8164 - mean_squared_error: 28.7366 - mean_absolute_error: 4.5852 - mean_absolute_percentage_error: 829962.4567 - cosine_proximity: -1.1449\n",
      "Epoch 00008: val_acc improved from 0.85509 to 0.85969, saving model to HAR_weights.hdf5\n",
      "154671/154671 [==============================] - 5s 34us/step - loss: 0.5631 - acc: 0.8164 - mean_squared_error: 28.7362 - mean_absolute_error: 4.5852 - mean_absolute_percentage_error: 830259.0833 - cosine_proximity: -1.1448 - val_loss: 0.4343 - val_acc: 0.8597 - val_mean_squared_error: 28.7081 - val_mean_absolute_error: 4.5833 - val_mean_absolute_percentage_error: 607151.2015 - val_cosine_proximity: -1.0621\n",
      "Epoch 9/50\n",
      "153088/154671 [============================>.] - ETA: 0s - loss: 0.5221 - acc: 0.8296 - mean_squared_error: 28.7306 - mean_absolute_error: 4.5848 - mean_absolute_percentage_error: 825577.2722 - cosine_proximity: -1.1264\n",
      "Epoch 00009: val_acc did not improve\n",
      "154671/154671 [==============================] - 5s 32us/step - loss: 0.5227 - acc: 0.8293 - mean_squared_error: 28.7388 - mean_absolute_error: 4.5856 - mean_absolute_percentage_error: 826613.2509 - cosine_proximity: -1.1266 - val_loss: 0.4645 - val_acc: 0.8548 - val_mean_squared_error: 28.6887 - val_mean_absolute_error: 4.5814 - val_mean_absolute_percentage_error: 590551.0023 - val_cosine_proximity: -1.0769\n",
      "Epoch 10/50\n",
      "154112/154671 [============================>.] - ETA: 0s - loss: 0.4862 - acc: 0.8442 - mean_squared_error: 28.7513 - mean_absolute_error: 4.5867 - mean_absolute_percentage_error: 847451.1055 - cosine_proximity: -1.1073\n",
      "Epoch 00010: val_acc improved from 0.85969 to 0.88060, saving model to HAR_weights.hdf5\n",
      "154671/154671 [==============================] - 5s 31us/step - loss: 0.4862 - acc: 0.8442 - mean_squared_error: 28.7517 - mean_absolute_error: 4.5867 - mean_absolute_percentage_error: 847018.0445 - cosine_proximity: -1.1072 - val_loss: 0.3717 - val_acc: 0.8806 - val_mean_squared_error: 28.7066 - val_mean_absolute_error: 4.5831 - val_mean_absolute_percentage_error: 575337.7673 - val_cosine_proximity: -1.0367\n",
      "Epoch 11/50\n",
      "153344/154671 [============================>.] - ETA: 0s - loss: 0.4588 - acc: 0.8537 - mean_squared_error: 28.7583 - mean_absolute_error: 4.5874 - mean_absolute_percentage_error: 816110.1250 - cosine_proximity: -1.0947\n",
      "Epoch 00011: val_acc improved from 0.88060 to 0.89336, saving model to HAR_weights.hdf5\n",
      "154671/154671 [==============================] - 5s 33us/step - loss: 0.4587 - acc: 0.8537 - mean_squared_error: 28.7647 - mean_absolute_error: 4.5879 - mean_absolute_percentage_error: 815429.9539 - cosine_proximity: -1.0947 - val_loss: 0.3422 - val_acc: 0.8934 - val_mean_squared_error: 28.7381 - val_mean_absolute_error: 4.5857 - val_mean_absolute_percentage_error: 519221.8443 - val_cosine_proximity: -1.0366\n",
      "Epoch 12/50\n",
      "154624/154671 [============================>.] - ETA: 0s - loss: 0.4457 - acc: 0.8583 - mean_squared_error: 28.7671 - mean_absolute_error: 4.5880 - mean_absolute_percentage_error: 870259.9851 - cosine_proximity: -1.0888\n",
      "Epoch 00012: val_acc did not improve\n",
      "154671/154671 [==============================] - 6s 37us/step - loss: 0.4456 - acc: 0.8583 - mean_squared_error: 28.7672 - mean_absolute_error: 4.5881 - mean_absolute_percentage_error: 870136.6968 - cosine_proximity: -1.0888 - val_loss: 0.3641 - val_acc: 0.8841 - val_mean_squared_error: 28.7275 - val_mean_absolute_error: 4.5856 - val_mean_absolute_percentage_error: 602786.3913 - val_cosine_proximity: -1.0333\n"
     ]
    },
    {
     "name": "stdout",
     "output_type": "stream",
     "text": [
      "Epoch 13/50\n",
      "153600/154671 [============================>.] - ETA: 0s - loss: 0.4205 - acc: 0.8664 - mean_squared_error: 28.7786 - mean_absolute_error: 4.5894 - mean_absolute_percentage_error: 884197.9571 - cosine_proximity: -1.0782\n",
      "Epoch 00013: val_acc improved from 0.89336 to 0.89511, saving model to HAR_weights.hdf5\n",
      "154671/154671 [==============================] - 5s 30us/step - loss: 0.4201 - acc: 0.8666 - mean_squared_error: 28.7751 - mean_absolute_error: 4.5893 - mean_absolute_percentage_error: 882562.8795 - cosine_proximity: -1.0781 - val_loss: 0.3267 - val_acc: 0.8951 - val_mean_squared_error: 28.7303 - val_mean_absolute_error: 4.5853 - val_mean_absolute_percentage_error: 548801.6043 - val_cosine_proximity: -1.0244\n",
      "Epoch 14/50\n",
      "154624/154671 [============================>.] - ETA: 0s - loss: 0.4036 - acc: 0.8724 - mean_squared_error: 28.7824 - mean_absolute_error: 4.5899 - mean_absolute_percentage_error: 827875.1819 - cosine_proximity: -1.0705\n",
      "Epoch 00014: val_acc improved from 0.89511 to 0.91027, saving model to HAR_weights.hdf5\n",
      "154671/154671 [==============================] - 5s 33us/step - loss: 0.4036 - acc: 0.8724 - mean_squared_error: 28.7814 - mean_absolute_error: 4.5897 - mean_absolute_percentage_error: 828031.7463 - cosine_proximity: -1.0705 - val_loss: 0.2766 - val_acc: 0.9103 - val_mean_squared_error: 28.7427 - val_mean_absolute_error: 4.5864 - val_mean_absolute_percentage_error: 601192.2740 - val_cosine_proximity: -1.0169\n",
      "Epoch 15/50\n",
      "154624/154671 [============================>.] - ETA: 0s - loss: 0.3837 - acc: 0.8779 - mean_squared_error: 28.7847 - mean_absolute_error: 4.5901 - mean_absolute_percentage_error: 878373.6617 - cosine_proximity: -1.0630\n",
      "Epoch 00015: val_acc did not improve\n",
      "154671/154671 [==============================] - 5s 31us/step - loss: 0.3837 - acc: 0.8779 - mean_squared_error: 28.7841 - mean_absolute_error: 4.5900 - mean_absolute_percentage_error: 878650.6153 - cosine_proximity: -1.0630 - val_loss: 0.3862 - val_acc: 0.8687 - val_mean_squared_error: 28.7189 - val_mean_absolute_error: 4.5848 - val_mean_absolute_percentage_error: 691614.2952 - val_cosine_proximity: -1.0255\n",
      "Epoch 16/50\n",
      "153600/154671 [============================>.] - ETA: 0s - loss: 0.3740 - acc: 0.8818 - mean_squared_error: 28.7789 - mean_absolute_error: 4.5893 - mean_absolute_percentage_error: 850113.8926 - cosine_proximity: -1.0586\n",
      "Epoch 00016: val_acc improved from 0.91027 to 0.91183, saving model to HAR_weights.hdf5\n",
      "154671/154671 [==============================] - 5s 32us/step - loss: 0.3737 - acc: 0.8820 - mean_squared_error: 28.7858 - mean_absolute_error: 4.5901 - mean_absolute_percentage_error: 849731.9533 - cosine_proximity: -1.0586 - val_loss: 0.2698 - val_acc: 0.9118 - val_mean_squared_error: 28.7266 - val_mean_absolute_error: 4.5854 - val_mean_absolute_percentage_error: 750357.7060 - val_cosine_proximity: -1.0079\n",
      "Epoch 17/50\n",
      "154624/154671 [============================>.] - ETA: 0s - loss: 0.3635 - acc: 0.8853 - mean_squared_error: 28.7996 - mean_absolute_error: 4.5912 - mean_absolute_percentage_error: 808647.5713 - cosine_proximity: -1.0537\n",
      "Epoch 00017: val_acc improved from 0.91183 to 0.91922, saving model to HAR_weights.hdf5\n",
      "154671/154671 [==============================] - 5s 33us/step - loss: 0.3636 - acc: 0.8852 - mean_squared_error: 28.7995 - mean_absolute_error: 4.5912 - mean_absolute_percentage_error: 808614.3264 - cosine_proximity: -1.0537 - val_loss: 0.2565 - val_acc: 0.9192 - val_mean_squared_error: 28.7486 - val_mean_absolute_error: 4.5874 - val_mean_absolute_percentage_error: 566743.9185 - val_cosine_proximity: -1.0040\n",
      "Epoch 18/50\n",
      "154368/154671 [============================>.] - ETA: 0s - loss: 0.3443 - acc: 0.8913 - mean_squared_error: 28.7804 - mean_absolute_error: 4.5898 - mean_absolute_percentage_error: 801827.2832 - cosine_proximity: -1.0464\n",
      "Epoch 00018: val_acc did not improve\n",
      "154671/154671 [==============================] - 6s 36us/step - loss: 0.3445 - acc: 0.8912 - mean_squared_error: 28.7765 - mean_absolute_error: 4.5895 - mean_absolute_percentage_error: 801237.6602 - cosine_proximity: -1.0465 - val_loss: 0.2783 - val_acc: 0.9124 - val_mean_squared_error: 28.7090 - val_mean_absolute_error: 4.5843 - val_mean_absolute_percentage_error: 594615.5943 - val_cosine_proximity: -1.0010\n",
      "Epoch 19/50\n",
      "154112/154671 [============================>.] - ETA: 0s - loss: 0.3476 - acc: 0.8913 - mean_squared_error: 28.7874 - mean_absolute_error: 4.5905 - mean_absolute_percentage_error: 804864.4477 - cosine_proximity: -1.0461- ETA: 4s - loss: 0.3351 - acc: 0.9018 - mean_squared_error: 28.5642 - mean_absolute_error: 4.56\n",
      "Epoch 00019: val_acc improved from 0.91922 to 0.92290, saving model to HAR_weights.hdf5\n",
      "154671/154671 [==============================] - 5s 31us/step - loss: 0.3475 - acc: 0.8914 - mean_squared_error: 28.7840 - mean_absolute_error: 4.5900 - mean_absolute_percentage_error: 803921.0285 - cosine_proximity: -1.0460 - val_loss: 0.2503 - val_acc: 0.9229 - val_mean_squared_error: 28.7593 - val_mean_absolute_error: 4.5877 - val_mean_absolute_percentage_error: 565943.3399 - val_cosine_proximity: -1.0041\n",
      "Epoch 20/50\n",
      "153600/154671 [============================>.] - ETA: 0s - loss: 0.3321 - acc: 0.8968 - mean_squared_error: 28.7992 - mean_absolute_error: 4.5913 - mean_absolute_percentage_error: 763486.2019 - cosine_proximity: -1.0398\n",
      "Epoch 00020: val_acc improved from 0.92290 to 0.93219, saving model to HAR_weights.hdf5\n",
      "154671/154671 [==============================] - 5s 32us/step - loss: 0.3320 - acc: 0.8968 - mean_squared_error: 28.8007 - mean_absolute_error: 4.5915 - mean_absolute_percentage_error: 763030.2573 - cosine_proximity: -1.0398 - val_loss: 0.2212 - val_acc: 0.9322 - val_mean_squared_error: 28.7632 - val_mean_absolute_error: 4.5885 - val_mean_absolute_percentage_error: 522807.5545 - val_cosine_proximity: -0.9971\n",
      "Epoch 21/50\n",
      "154368/154671 [============================>.] - ETA: 0s - loss: 0.3266 - acc: 0.8983 - mean_squared_error: 28.7960 - mean_absolute_error: 4.5912 - mean_absolute_percentage_error: 741510.0923 - cosine_proximity: -1.0360\n",
      "Epoch 00021: val_acc did not improve\n",
      "154671/154671 [==============================] - 5s 32us/step - loss: 0.3267 - acc: 0.8982 - mean_squared_error: 28.7961 - mean_absolute_error: 4.5913 - mean_absolute_percentage_error: 740693.4003 - cosine_proximity: -1.0361 - val_loss: 0.2644 - val_acc: 0.9183 - val_mean_squared_error: 28.7184 - val_mean_absolute_error: 4.5849 - val_mean_absolute_percentage_error: 568570.1630 - val_cosine_proximity: -1.0019\n",
      "Epoch 22/50\n",
      "154112/154671 [============================>.] - ETA: 0s - loss: 0.3169 - acc: 0.9024 - mean_squared_error: 28.7855 - mean_absolute_error: 4.5902 - mean_absolute_percentage_error: 747003.7433 - cosine_proximity: -1.0336\n",
      "Epoch 00022: val_acc did not improve\n",
      "\n",
      "Epoch 00022: ReduceLROnPlateau reducing learning rate to 0.004999999888241291.\n",
      "154671/154671 [==============================] - 5s 32us/step - loss: 0.3171 - acc: 0.9024 - mean_squared_error: 28.7940 - mean_absolute_error: 4.5912 - mean_absolute_percentage_error: 746646.3778 - cosine_proximity: -1.0336 - val_loss: 0.2524 - val_acc: 0.9287 - val_mean_squared_error: 28.7353 - val_mean_absolute_error: 4.5864 - val_mean_absolute_percentage_error: 561483.7787 - val_cosine_proximity: -0.9946\n",
      "Epoch 23/50\n",
      "154624/154671 [============================>.] - ETA: 0s - loss: 0.2624 - acc: 0.9191 - mean_squared_error: 28.8114 - mean_absolute_error: 4.5928 - mean_absolute_percentage_error: 691561.1248 - cosine_proximity: -1.0175\n",
      "Epoch 00023: val_acc improved from 0.93219 to 0.94311, saving model to HAR_weights.hdf5\n",
      "154671/154671 [==============================] - 5s 34us/step - loss: 0.2626 - acc: 0.9191 - mean_squared_error: 28.8106 - mean_absolute_error: 4.5927 - mean_absolute_percentage_error: 691685.2191 - cosine_proximity: -1.0175 - val_loss: 0.1888 - val_acc: 0.9431 - val_mean_squared_error: 28.7424 - val_mean_absolute_error: 4.5873 - val_mean_absolute_percentage_error: 554848.7506 - val_cosine_proximity: -0.9777\n",
      "Epoch 24/50\n",
      "153344/154671 [============================>.] - ETA: 0s - loss: 0.2555 - acc: 0.9226 - mean_squared_error: 28.8193 - mean_absolute_error: 4.5935 - mean_absolute_percentage_error: 703772.3107 - cosine_proximity: -1.0130\n",
      "Epoch 00024: val_acc improved from 0.94311 to 0.94375, saving model to HAR_weights.hdf5\n",
      "154671/154671 [==============================] - 5s 33us/step - loss: 0.2555 - acc: 0.9227 - mean_squared_error: 28.8146 - mean_absolute_error: 4.5930 - mean_absolute_percentage_error: 703439.2717 - cosine_proximity: -1.0131 - val_loss: 0.1907 - val_acc: 0.9438 - val_mean_squared_error: 28.7337 - val_mean_absolute_error: 4.5867 - val_mean_absolute_percentage_error: 573232.0669 - val_cosine_proximity: -0.9800\n",
      "Epoch 25/50\n",
      "153344/154671 [============================>.] - ETA: 0s - loss: 0.2438 - acc: 0.9254 - mean_squared_error: 28.8032 - mean_absolute_error: 4.5918 - mean_absolute_percentage_error: 693842.5500 - cosine_proximity: -1.0090\n",
      "Epoch 00025: val_acc improved from 0.94375 to 0.95050, saving model to HAR_weights.hdf5\n",
      "154671/154671 [==============================] - 5s 35us/step - loss: 0.2440 - acc: 0.9254 - mean_squared_error: 28.8078 - mean_absolute_error: 4.5926 - mean_absolute_percentage_error: 694035.3502 - cosine_proximity: -1.0092 - val_loss: 0.1646 - val_acc: 0.9505 - val_mean_squared_error: 28.7691 - val_mean_absolute_error: 4.5895 - val_mean_absolute_percentage_error: 592745.4308 - val_cosine_proximity: -0.9751\n",
      "Epoch 26/50\n",
      "153600/154671 [============================>.] - ETA: 0s - loss: 0.2356 - acc: 0.9273 - mean_squared_error: 28.8229 - mean_absolute_error: 4.5938 - mean_absolute_percentage_error: 694417.6701 - cosine_proximity: -1.0059\n",
      "Epoch 00026: val_acc did not improve\n",
      "154671/154671 [==============================] - 5s 30us/step - loss: 0.2357 - acc: 0.9273 - mean_squared_error: 28.8205 - mean_absolute_error: 4.5935 - mean_absolute_percentage_error: 693453.5702 - cosine_proximity: -1.0060 - val_loss: 0.1709 - val_acc: 0.9500 - val_mean_squared_error: 28.7613 - val_mean_absolute_error: 4.5887 - val_mean_absolute_percentage_error: 564210.2394 - val_cosine_proximity: -0.9744\n",
      "Epoch 27/50\n",
      "153600/154671 [============================>.] - ETA: 0s - loss: 0.2339 - acc: 0.9271 - mean_squared_error: 28.8178 - mean_absolute_error: 4.5933 - mean_absolute_percentage_error: 692666.0462 - cosine_proximity: -1.0046\n",
      "Epoch 00027: val_acc improved from 0.95050 to 0.95527, saving model to HAR_weights.hdf5\n",
      "154671/154671 [==============================] - 5s 35us/step - loss: 0.2337 - acc: 0.9272 - mean_squared_error: 28.8221 - mean_absolute_error: 4.5938 - mean_absolute_percentage_error: 692213.0508 - cosine_proximity: -1.0045 - val_loss: 0.1563 - val_acc: 0.9553 - val_mean_squared_error: 28.7731 - val_mean_absolute_error: 4.5901 - val_mean_absolute_percentage_error: 535085.7122 - val_cosine_proximity: -0.9711\n",
      "Epoch 28/50\n",
      "153088/154671 [============================>.] - ETA: 0s - loss: 0.2276 - acc: 0.9297 - mean_squared_error: 28.8270 - mean_absolute_error: 4.5942 - mean_absolute_percentage_error: 681324.3842 - cosine_proximity: -1.0034\n",
      "Epoch 00028: val_acc did not improve\n",
      "154671/154671 [==============================] - 5s 32us/step - loss: 0.2279 - acc: 0.9297 - mean_squared_error: 28.8256 - mean_absolute_error: 4.5942 - mean_absolute_percentage_error: 680852.9514 - cosine_proximity: -1.0033 - val_loss: 0.1536 - val_acc: 0.9538 - val_mean_squared_error: 28.7575 - val_mean_absolute_error: 4.5884 - val_mean_absolute_percentage_error: 551147.2472 - val_cosine_proximity: -0.9695\n",
      "Epoch 29/50\n",
      "153600/154671 [============================>.] - ETA: 0s - loss: 0.2287 - acc: 0.9296 - mean_squared_error: 28.8167 - mean_absolute_error: 4.5933 - mean_absolute_percentage_error: 680972.8379 - cosine_proximity: -1.0030\n",
      "Epoch 00029: val_acc improved from 0.95527 to 0.95818, saving model to HAR_weights.hdf5\n",
      "154671/154671 [==============================] - 5s 34us/step - loss: 0.2289 - acc: 0.9295 - mean_squared_error: 28.8223 - mean_absolute_error: 4.5940 - mean_absolute_percentage_error: 680883.3705 - cosine_proximity: -1.0030 - val_loss: 0.1463 - val_acc: 0.9582 - val_mean_squared_error: 28.7557 - val_mean_absolute_error: 4.5884 - val_mean_absolute_percentage_error: 570863.6293 - val_cosine_proximity: -0.9679\n",
      "Epoch 30/50\n",
      "153856/154671 [============================>.] - ETA: 0s - loss: 0.2191 - acc: 0.9315 - mean_squared_error: 28.8238 - mean_absolute_error: 4.5943 - mean_absolute_percentage_error: 683463.8894 - cosine_proximity: -0.9998\n",
      "Epoch 00030: val_acc did not improve\n",
      "154671/154671 [==============================] - 5s 31us/step - loss: 0.2190 - acc: 0.9315 - mean_squared_error: 28.8259 - mean_absolute_error: 4.5944 - mean_absolute_percentage_error: 683358.6139 - cosine_proximity: -0.9999 - val_loss: 0.1424 - val_acc: 0.9572 - val_mean_squared_error: 28.7822 - val_mean_absolute_error: 4.5904 - val_mean_absolute_percentage_error: 600578.1730 - val_cosine_proximity: -0.9690\n",
      "Epoch 31/50\n",
      "154368/154671 [============================>.] - ETA: 0s - loss: 0.2155 - acc: 0.9340 - mean_squared_error: 28.8385 - mean_absolute_error: 4.5955 - mean_absolute_percentage_error: 719248.5302 - cosine_proximity: -0.9988\n",
      "Epoch 00031: val_acc improved from 0.95818 to 0.95902, saving model to HAR_weights.hdf5\n",
      "154671/154671 [==============================] - 5s 33us/step - loss: 0.2156 - acc: 0.9339 - mean_squared_error: 28.8365 - mean_absolute_error: 4.5954 - mean_absolute_percentage_error: 719063.8341 - cosine_proximity: -0.9988 - val_loss: 0.1406 - val_acc: 0.9590 - val_mean_squared_error: 28.7709 - val_mean_absolute_error: 4.5905 - val_mean_absolute_percentage_error: 561510.2693 - val_cosine_proximity: -0.9672\n",
      "Epoch 32/50\n",
      "154112/154671 [============================>.] - ETA: 0s - loss: 0.2104 - acc: 0.9340 - mean_squared_error: 28.8335 - mean_absolute_error: 4.5949 - mean_absolute_percentage_error: 691008.9587 - cosine_proximity: -0.9971\n",
      "Epoch 00032: val_acc did not improve\n",
      "154671/154671 [==============================] - 5s 35us/step - loss: 0.2105 - acc: 0.9340 - mean_squared_error: 28.8354 - mean_absolute_error: 4.5951 - mean_absolute_percentage_error: 690952.1881 - cosine_proximity: -0.9970 - val_loss: 0.1452 - val_acc: 0.9581 - val_mean_squared_error: 28.7907 - val_mean_absolute_error: 4.5917 - val_mean_absolute_percentage_error: 574916.6309 - val_cosine_proximity: -0.9668\n",
      "Epoch 33/50\n",
      "153088/154671 [============================>.] - ETA: 0s - loss: 0.2083 - acc: 0.9355 - mean_squared_error: 28.8362 - mean_absolute_error: 4.5952 - mean_absolute_percentage_error: 692365.6639 - cosine_proximity: -0.9961\n",
      "Epoch 00033: val_acc did not improve\n",
      "\n",
      "Epoch 00033: ReduceLROnPlateau reducing learning rate to 0.0024999999441206455.\n",
      "154671/154671 [==============================] - 5s 34us/step - loss: 0.2085 - acc: 0.9354 - mean_squared_error: 28.8352 - mean_absolute_error: 4.5952 - mean_absolute_percentage_error: 692037.9966 - cosine_proximity: -0.9962 - val_loss: 0.1461 - val_acc: 0.9561 - val_mean_squared_error: 28.7638 - val_mean_absolute_error: 4.5894 - val_mean_absolute_percentage_error: 555162.3424 - val_cosine_proximity: -0.9660\n",
      "Epoch 34/50\n",
      "154112/154671 [============================>.] - ETA: 0s - loss: 0.1895 - acc: 0.9411 - mean_squared_error: 28.8301 - mean_absolute_error: 4.5947 - mean_absolute_percentage_error: 667950.1718 - cosine_proximity: -0.9919\n",
      "Epoch 00034: val_acc improved from 0.95902 to 0.96305, saving model to HAR_weights.hdf5\n",
      "154671/154671 [==============================] - 5s 35us/step - loss: 0.1896 - acc: 0.9410 - mean_squared_error: 28.8327 - mean_absolute_error: 4.5950 - mean_absolute_percentage_error: 667711.9150 - cosine_proximity: -0.9919 - val_loss: 0.1251 - val_acc: 0.9631 - val_mean_squared_error: 28.7637 - val_mean_absolute_error: 4.5894 - val_mean_absolute_percentage_error: 574989.4307 - val_cosine_proximity: -0.9629\n",
      "Epoch 35/50\n",
      "154624/154671 [============================>.] - ETA: 0s - loss: 0.1830 - acc: 0.9438 - mean_squared_error: 28.8337 - mean_absolute_error: 4.5949 - mean_absolute_percentage_error: 668756.7313 - cosine_proximity: -0.9894\n",
      "Epoch 00035: val_acc improved from 0.96305 to 0.96658, saving model to HAR_weights.hdf5\n",
      "154671/154671 [==============================] - 5s 33us/step - loss: 0.1831 - acc: 0.9438 - mean_squared_error: 28.8329 - mean_absolute_error: 4.5948 - mean_absolute_percentage_error: 668798.2906 - cosine_proximity: -0.9894 - val_loss: 0.1187 - val_acc: 0.9666 - val_mean_squared_error: 28.7763 - val_mean_absolute_error: 4.5906 - val_mean_absolute_percentage_error: 567920.9361 - val_cosine_proximity: -0.9601\n"
     ]
    },
    {
     "name": "stdout",
     "output_type": "stream",
     "text": [
      "Epoch 36/50\n",
      "153344/154671 [============================>.] - ETA: 0s - loss: 0.1824 - acc: 0.9441 - mean_squared_error: 28.8285 - mean_absolute_error: 4.5948 - mean_absolute_percentage_error: 692771.5881 - cosine_proximity: -0.9883\n",
      "Epoch 00036: val_acc improved from 0.96658 to 0.96683, saving model to HAR_weights.hdf5\n",
      "154671/154671 [==============================] - 5s 32us/step - loss: 0.1825 - acc: 0.9441 - mean_squared_error: 28.8207 - mean_absolute_error: 4.5939 - mean_absolute_percentage_error: 693831.5505 - cosine_proximity: -0.9882 - val_loss: 0.1139 - val_acc: 0.9668 - val_mean_squared_error: 28.7503 - val_mean_absolute_error: 4.5883 - val_mean_absolute_percentage_error: 586545.4212 - val_cosine_proximity: -0.9598\n",
      "Epoch 37/50\n",
      "153856/154671 [============================>.] - ETA: 0s - loss: 0.1822 - acc: 0.9431 - mean_squared_error: 28.8243 - mean_absolute_error: 4.5945 - mean_absolute_percentage_error: 664629.1006 - cosine_proximity: -0.9882\n",
      "Epoch 00037: val_acc did not improve\n",
      "154671/154671 [==============================] - 5s 30us/step - loss: 0.1824 - acc: 0.9430 - mean_squared_error: 28.8181 - mean_absolute_error: 4.5936 - mean_absolute_percentage_error: 665184.2801 - cosine_proximity: -0.9882 - val_loss: 0.1226 - val_acc: 0.9649 - val_mean_squared_error: 28.7617 - val_mean_absolute_error: 4.5891 - val_mean_absolute_percentage_error: 515885.5595 - val_cosine_proximity: -0.9606\n",
      "Epoch 38/50\n",
      "153088/154671 [============================>.] - ETA: 0s - loss: 0.1792 - acc: 0.9452 - mean_squared_error: 28.8350 - mean_absolute_error: 4.5954 - mean_absolute_percentage_error: 651948.1700 - cosine_proximity: -0.9871\n",
      "Epoch 00038: val_acc improved from 0.96683 to 0.96819, saving model to HAR_weights.hdf5\n",
      "154671/154671 [==============================] - 5s 32us/step - loss: 0.1790 - acc: 0.9453 - mean_squared_error: 28.8234 - mean_absolute_error: 4.5942 - mean_absolute_percentage_error: 651186.3380 - cosine_proximity: -0.9872 - val_loss: 0.1139 - val_acc: 0.9682 - val_mean_squared_error: 28.7708 - val_mean_absolute_error: 4.5900 - val_mean_absolute_percentage_error: 516170.7162 - val_cosine_proximity: -0.9606\n",
      "Epoch 39/50\n",
      "154112/154671 [============================>.] - ETA: 0s - loss: 0.1746 - acc: 0.9467 - mean_squared_error: 28.8247 - mean_absolute_error: 4.5940 - mean_absolute_percentage_error: 653279.2273 - cosine_proximity: -0.9858- ETA: 4s - loss: 0.1798 - acc: 0.9499 - mean_squared_error: 28.4333 - mean_absolute_err\n",
      "Epoch 00039: val_acc improved from 0.96819 to 0.96835, saving model to HAR_weights.hdf5\n",
      "154671/154671 [==============================] - 5s 34us/step - loss: 0.1747 - acc: 0.9467 - mean_squared_error: 28.8297 - mean_absolute_error: 4.5946 - mean_absolute_percentage_error: 653041.2870 - cosine_proximity: -0.9859 - val_loss: 0.1093 - val_acc: 0.9683 - val_mean_squared_error: 28.7709 - val_mean_absolute_error: 4.5901 - val_mean_absolute_percentage_error: 549975.0811 - val_cosine_proximity: -0.9591\n",
      "Epoch 40/50\n",
      "154624/154671 [============================>.] - ETA: 0s - loss: 0.1753 - acc: 0.9454 - mean_squared_error: 28.8267 - mean_absolute_error: 4.5943 - mean_absolute_percentage_error: 658542.8359 - cosine_proximity: -0.9857\n",
      "Epoch 00040: val_acc improved from 0.96835 to 0.97050, saving model to HAR_weights.hdf5\n",
      "154671/154671 [==============================] - 5s 32us/step - loss: 0.1753 - acc: 0.9454 - mean_squared_error: 28.8281 - mean_absolute_error: 4.5945 - mean_absolute_percentage_error: 658546.3829 - cosine_proximity: -0.9857 - val_loss: 0.1071 - val_acc: 0.9705 - val_mean_squared_error: 28.7768 - val_mean_absolute_error: 4.5905 - val_mean_absolute_percentage_error: 560441.6104 - val_cosine_proximity: -0.9583\n",
      "Epoch 41/50\n",
      "154624/154671 [============================>.] - ETA: 0s - loss: 0.1692 - acc: 0.9478 - mean_squared_error: 28.8304 - mean_absolute_error: 4.5945 - mean_absolute_percentage_error: 661145.6666 - cosine_proximity: -0.9842\n",
      "Epoch 00041: val_acc did not improve\n",
      "154671/154671 [==============================] - 5s 32us/step - loss: 0.1692 - acc: 0.9478 - mean_squared_error: 28.8302 - mean_absolute_error: 4.5945 - mean_absolute_percentage_error: 661351.5762 - cosine_proximity: -0.9842 - val_loss: 0.1062 - val_acc: 0.9699 - val_mean_squared_error: 28.7723 - val_mean_absolute_error: 4.5899 - val_mean_absolute_percentage_error: 554573.1008 - val_cosine_proximity: -0.9571\n",
      "Epoch 42/50\n",
      "152832/154671 [============================>.] - ETA: 0s - loss: 0.1714 - acc: 0.9464 - mean_squared_error: 28.8357 - mean_absolute_error: 4.5950 - mean_absolute_percentage_error: 665134.3918 - cosine_proximity: -0.9839\n",
      "Epoch 00042: val_acc did not improve\n",
      "\n",
      "Epoch 00042: ReduceLROnPlateau reducing learning rate to 0.0012499999720603228.\n",
      "154671/154671 [==============================] - 5s 32us/step - loss: 0.1713 - acc: 0.9465 - mean_squared_error: 28.8253 - mean_absolute_error: 4.5941 - mean_absolute_percentage_error: 666260.0981 - cosine_proximity: -0.9839 - val_loss: 0.1080 - val_acc: 0.9679 - val_mean_squared_error: 28.7670 - val_mean_absolute_error: 4.5892 - val_mean_absolute_percentage_error: 548674.2626 - val_cosine_proximity: -0.9571\n",
      "Epoch 43/50\n",
      "154368/154671 [============================>.] - ETA: 0s - loss: 0.1602 - acc: 0.9499 - mean_squared_error: 28.8330 - mean_absolute_error: 4.5947 - mean_absolute_percentage_error: 684183.0811 - cosine_proximity: -0.9819\n",
      "Epoch 00043: val_acc improved from 0.97050 to 0.97143, saving model to HAR_weights.hdf5\n",
      "154671/154671 [==============================] - 5s 32us/step - loss: 0.1602 - acc: 0.9499 - mean_squared_error: 28.8294 - mean_absolute_error: 4.5945 - mean_absolute_percentage_error: 684179.7124 - cosine_proximity: -0.9819 - val_loss: 0.0996 - val_acc: 0.9714 - val_mean_squared_error: 28.7592 - val_mean_absolute_error: 4.5889 - val_mean_absolute_percentage_error: 565128.3343 - val_cosine_proximity: -0.9561\n",
      "Epoch 44/50\n",
      "153856/154671 [============================>.] - ETA: 0s - loss: 0.1614 - acc: 0.9502 - mean_squared_error: 28.8282 - mean_absolute_error: 4.5944 - mean_absolute_percentage_error: 670530.3780 - cosine_proximity: -0.9817\n",
      "Epoch 00044: val_acc did not improve\n",
      "154671/154671 [==============================] - 5s 36us/step - loss: 0.1616 - acc: 0.9501 - mean_squared_error: 28.8282 - mean_absolute_error: 4.5945 - mean_absolute_percentage_error: 671332.9367 - cosine_proximity: -0.9817 - val_loss: 0.1010 - val_acc: 0.9711 - val_mean_squared_error: 28.7652 - val_mean_absolute_error: 4.5896 - val_mean_absolute_percentage_error: 560607.2685 - val_cosine_proximity: -0.9548\n",
      "Epoch 45/50\n",
      "153600/154671 [============================>.] - ETA: 0s - loss: 0.1592 - acc: 0.9513 - mean_squared_error: 28.8278 - mean_absolute_error: 4.5946 - mean_absolute_percentage_error: 660629.7641 - cosine_proximity: -0.9806\n",
      "Epoch 00045: val_acc improved from 0.97143 to 0.97424, saving model to HAR_weights.hdf5\n",
      "154671/154671 [==============================] - 6s 39us/step - loss: 0.1592 - acc: 0.9513 - mean_squared_error: 28.8300 - mean_absolute_error: 4.5947 - mean_absolute_percentage_error: 660749.7300 - cosine_proximity: -0.9805 - val_loss: 0.0958 - val_acc: 0.9742 - val_mean_squared_error: 28.7693 - val_mean_absolute_error: 4.5897 - val_mean_absolute_percentage_error: 518102.5772 - val_cosine_proximity: -0.9544\n",
      "Epoch 46/50\n",
      "153344/154671 [============================>.] - ETA: 0s - loss: 0.1606 - acc: 0.9504 - mean_squared_error: 28.8389 - mean_absolute_error: 4.5956 - mean_absolute_percentage_error: 636673.5207 - cosine_proximity: -0.9808\n",
      "Epoch 00046: val_acc did not improve\n",
      "154671/154671 [==============================] - 6s 39us/step - loss: 0.1608 - acc: 0.9504 - mean_squared_error: 28.8315 - mean_absolute_error: 4.5947 - mean_absolute_percentage_error: 635907.6311 - cosine_proximity: -0.9809 - val_loss: 0.0965 - val_acc: 0.9730 - val_mean_squared_error: 28.7680 - val_mean_absolute_error: 4.5897 - val_mean_absolute_percentage_error: 528158.0197 - val_cosine_proximity: -0.9548\n",
      "Epoch 47/50\n",
      "153856/154671 [============================>.] - ETA: 0s - loss: 0.1572 - acc: 0.9515 - mean_squared_error: 28.8291 - mean_absolute_error: 4.5943 - mean_absolute_percentage_error: 644114.4327 - cosine_proximity: -0.9800\n",
      "Epoch 00047: val_acc did not improve\n",
      "\n",
      "Epoch 00047: ReduceLROnPlateau reducing learning rate to 0.0006249999860301614.\n",
      "154671/154671 [==============================] - 6s 37us/step - loss: 0.1572 - acc: 0.9515 - mean_squared_error: 28.8326 - mean_absolute_error: 4.5948 - mean_absolute_percentage_error: 644740.0716 - cosine_proximity: -0.9801 - val_loss: 0.0966 - val_acc: 0.9734 - val_mean_squared_error: 28.7756 - val_mean_absolute_error: 4.5902 - val_mean_absolute_percentage_error: 536379.5493 - val_cosine_proximity: -0.9543\n",
      "Epoch 48/50\n",
      "153600/154671 [============================>.] - ETA: 0s - loss: 0.1554 - acc: 0.9524 - mean_squared_error: 28.8401 - mean_absolute_error: 4.5952 - mean_absolute_percentage_error: 658899.9107 - cosine_proximity: -0.9796\n",
      "Epoch 00048: val_acc did not improve\n",
      "\n",
      "Epoch 00048: ReduceLROnPlateau reducing learning rate to 0.0003124999930150807.\n",
      "154671/154671 [==============================] - 6s 36us/step - loss: 0.1555 - acc: 0.9524 - mean_squared_error: 28.8356 - mean_absolute_error: 4.5950 - mean_absolute_percentage_error: 657839.4763 - cosine_proximity: -0.9798 - val_loss: 0.0941 - val_acc: 0.9738 - val_mean_squared_error: 28.7745 - val_mean_absolute_error: 4.5902 - val_mean_absolute_percentage_error: 543290.7298 - val_cosine_proximity: -0.9538\n",
      "Epoch 49/50\n",
      "154112/154671 [============================>.] - ETA: 0s - loss: 0.1529 - acc: 0.9526 - mean_squared_error: 28.8286 - mean_absolute_error: 4.5943 - mean_absolute_percentage_error: 654273.6345 - cosine_proximity: -0.9787\n",
      "Epoch 00049: val_acc did not improve\n",
      "\n",
      "Epoch 00049: ReduceLROnPlateau reducing learning rate to 0.00015624999650754035.\n",
      "154671/154671 [==============================] - 6s 36us/step - loss: 0.1529 - acc: 0.9526 - mean_squared_error: 28.8347 - mean_absolute_error: 4.5950 - mean_absolute_percentage_error: 654006.1766 - cosine_proximity: -0.9787 - val_loss: 0.0933 - val_acc: 0.9739 - val_mean_squared_error: 28.7713 - val_mean_absolute_error: 4.5900 - val_mean_absolute_percentage_error: 540980.6271 - val_cosine_proximity: -0.9534\n",
      "Epoch 50/50\n",
      "154624/154671 [============================>.] - ETA: 0s - loss: 0.1522 - acc: 0.9529 - mean_squared_error: 28.8319 - mean_absolute_error: 4.5948 - mean_absolute_percentage_error: 652173.8184 - cosine_proximity: -0.9785\n",
      "Epoch 00050: val_acc did not improve\n",
      "\n",
      "Epoch 00050: ReduceLROnPlateau reducing learning rate to 7.812499825377017e-05.\n",
      "154671/154671 [==============================] - 5s 32us/step - loss: 0.1523 - acc: 0.9528 - mean_squared_error: 28.8325 - mean_absolute_error: 4.5948 - mean_absolute_percentage_error: 652383.4151 - cosine_proximity: -0.9785 - val_loss: 0.0925 - val_acc: 0.9741 - val_mean_squared_error: 28.7703 - val_mean_absolute_error: 4.5899 - val_mean_absolute_percentage_error: 538437.0538 - val_cosine_proximity: -0.9535\n"
     ]
    }
   ],
   "source": [
    "history = model.fit(trainX, trainY, epochs=50, batch_size=256, validation_data=(testX, testY), callbacks=callbacks_list)\n",
    "\n",
    "#history = model.fit(trainX, trainY, epochs=50, batch_size=256, validation_data=(testX, testY), callbacks=callbacks_list)"
   ]
  },
  {
   "cell_type": "code",
   "execution_count": 158,
   "metadata": {},
   "outputs": [
    {
     "data": {
      "image/png": "[encoded data removed]",
      "text/plain": [
       "<Figure size 720x432 with 4 Axes>"
      ]
     },
     "metadata": {},
     "output_type": "display_data"
    }
   ],
   "source": [
    "from matplotlib import pyplot\n",
    "\n",
    "fig, axes = plt.subplots(2, 2, figsize=(10, 6))\n",
    "mse = ax=axes[0, 0].plot(history.history['mean_squared_error'])\n",
    "mae = ax=axes[0, 1].plot(history.history['mean_absolute_error'])\n",
    "mape = ax=axes[1, 0].plot(history.history['mean_absolute_percentage_error'])\n",
    "cos_p = ax=axes[1, 1].plot(history.history['cosine_proximity'])\n"
   ]
  },
  {
   "cell_type": "code",
   "execution_count": 159,
   "metadata": {},
   "outputs": [
    {
     "name": "stdout",
     "output_type": "stream",
     "text": [
      "[INFO] evaluating network...\n",
      "[[3254    0  107    0    0    0  204    0   37    0]\n",
      " [   0 3553    1   16    0    7    0   40    7    0]\n",
      " [ 110    0 9059    0   12    0   10    0    4    0]\n",
      " [   0   17    0 4979    0   10    0   75    0   46]\n",
      " [   0    0   11    0 4006    0    0    0    0    3]\n",
      " [   0    2    0   26    0 3839    0   16    6   14]\n",
      " [  29    0    0    0    0    0 4144    1   18    0]\n",
      " [   4    5    0   31    0    7    3 7004   15   36]\n",
      " [ 171    1   43    2    4   30   23    5 7530    1]\n",
      " [   0    0    0   52   19    9    0   32    6 2861]]\n"
     ]
    }
   ],
   "source": [
    "# Evaluate the network\n",
    "print(\"[INFO] evaluating network...\")\n",
    "# from sklearn.metrics import roc_curve, auc\n",
    "from sklearn.metrics import classification_report , accuracy_score, roc_curve, auc, confusion_matrix\n",
    "# from sklearn.metrics import confusion_matrix\n",
    "model.load_weights(\"HAR_weights.hdf5\")\n",
    "\n",
    "y_pred = model.predict(testX)\n",
    "y_pred = np.argmax(y_pred, axis = 1) \n",
    "\n",
    "cm = confusion_matrix(testY, y_pred)\n",
    "print(cm)"
   ]
  },
  {
   "cell_type": "code",
   "execution_count": 160,
   "metadata": {},
   "outputs": [
    {
     "name": "stdout",
     "output_type": "stream",
     "text": [
      "[INFO] evaluating network...\n",
      "             precision    recall  f1-score   support\n",
      "\n",
      "          0       0.91      0.90      0.91      3602\n",
      "          1       0.99      0.98      0.99      3624\n",
      "          2       0.98      0.99      0.98      9195\n",
      "          3       0.98      0.97      0.97      5127\n",
      "          4       0.99      1.00      0.99      4020\n",
      "          5       0.98      0.98      0.98      3903\n",
      "          6       0.95      0.99      0.97      4192\n",
      "          7       0.98      0.99      0.98      7105\n",
      "          8       0.99      0.96      0.98      7810\n",
      "          9       0.97      0.96      0.96      2979\n",
      "\n",
      "avg / total       0.97      0.97      0.97     51557\n",
      "\n"
     ]
    }
   ],
   "source": [
    "# evaluate the network\n",
    "print(\"[INFO] evaluating network...\")\n",
    "print(classification_report(testY, y_pred))"
   ]
  },
  {
   "cell_type": "code",
   "execution_count": 161,
   "metadata": {},
   "outputs": [
    {
     "data": {
      "image/png": "[encoded data removed]",
      "text/plain": [
       "<Figure size 720x432 with 1 Axes>"
      ]
     },
     "metadata": {},
     "output_type": "display_data"
    }
   ],
   "source": [
    "from pylab import rcParams\n",
    "rcParams['figure.figsize'] = 10, 6\n",
    "plt.plot(history.history['acc'], label=\"train_acc\")\n",
    "plt.plot(history.history['val_acc'], label=\"val_loss\")\n",
    "plt.plot(history.history['loss'], label=\"train_loss\")\n",
    "plt.plot(history.history['val_loss'], label=\"val_loss\")\n",
    "plt.title('Training Loss and Accuracy WITH Learning Rate Decay ')\n",
    "plt.ylabel('loss/accuracy')\n",
    "plt.xlabel('epoch')\n",
    "plt.legend(loc='upper right')\n",
    "plt.show()"
   ]
  },
  {
   "cell_type": "code",
   "execution_count": 162,
   "metadata": {},
   "outputs": [],
   "source": [
    "# Binarize the output for ROC curve\n",
    "y = label_binarize(y, classes=[0,1,2,3,4,5,6,7,8,9])\n",
    "n_classes = y.shape[1]"
   ]
  },
  {
   "cell_type": "code",
   "execution_count": 163,
   "metadata": {},
   "outputs": [],
   "source": [
    "# After that rerun the split again\n",
    "trainX, testX, trainY, testY = train_test_split(X, y, test_size=0.25, random_state=101)"
   ]
  },
  {
   "cell_type": "code",
   "execution_count": 164,
   "metadata": {},
   "outputs": [],
   "source": [
    "# Feature Scaling again\n",
    "from sklearn.preprocessing import StandardScaler\n",
    "sc = StandardScaler()\n",
    "trainX = sc.fit_transform(trainX)\n",
    "testX = sc.fit_transform(testX)"
   ]
  },
  {
   "cell_type": "code",
   "execution_count": 165,
   "metadata": {},
   "outputs": [
    {
     "name": "stdout",
     "output_type": "stream",
     "text": [
      "(154671, 8) (154671, 10)\n",
      "(51557, 8) (51557, 10)\n"
     ]
    }
   ],
   "source": [
    "# Now print the shape\n",
    "print(trainX.shape , trainY.shape)\n",
    "print(testX.shape , testY.shape)"
   ]
  },
  {
   "cell_type": "code",
   "execution_count": 166,
   "metadata": {},
   "outputs": [],
   "source": [
    "#y_score = classifier.fit(trainX, trainY).decision_function(testX)\n",
    "y_score = model.predict_proba(testX)\n",
    "y_pred = model.predict(testX)\n",
    "y_pred = np.argmax(y_pred, axis = 1) "
   ]
  },
  {
   "cell_type": "code",
   "execution_count": 167,
   "metadata": {},
   "outputs": [
    {
     "data": {
      "text/plain": [
       "array([[1.1920929e-07, 0.0000000e+00, 0.0000000e+00, ..., 0.0000000e+00,\n",
       "        0.0000000e+00, 0.0000000e+00],\n",
       "       [0.0000000e+00, 0.0000000e+00, 0.0000000e+00, ..., 3.6155999e-02,\n",
       "        0.0000000e+00, 0.0000000e+00],\n",
       "       [0.0000000e+00, 0.0000000e+00, 0.0000000e+00, ..., 0.0000000e+00,\n",
       "        3.9264262e-03, 0.0000000e+00],\n",
       "       ...,\n",
       "       [2.1787882e-02, 0.0000000e+00, 5.9604645e-08, ..., 0.0000000e+00,\n",
       "        5.9604645e-08, 0.0000000e+00],\n",
       "       [0.0000000e+00, 0.0000000e+00, 0.0000000e+00, ..., 0.0000000e+00,\n",
       "        0.0000000e+00, 0.0000000e+00],\n",
       "       [7.9038143e-02, 0.0000000e+00, 2.6524067e-06, ..., 2.9802322e-08,\n",
       "        2.9180828e-03, 3.2463372e-17]], dtype=float32)"
      ]
     },
     "execution_count": 167,
     "metadata": {},
     "output_type": "execute_result"
    }
   ],
   "source": [
    "y_score"
   ]
  },
  {
   "cell_type": "code",
   "execution_count": 168,
   "metadata": {},
   "outputs": [],
   "source": [
    "# Compute ROC curve and ROC area for each class\n",
    "fpr = dict()\n",
    "tpr = dict()\n",
    "roc_auc = dict()\n",
    "\n",
    "for i in range(n_classes):\n",
    "    fpr[i], tpr[i], _ = roc_curve(testY[:, i], y_score[:, i])\n",
    "    roc_auc[i] = auc(fpr[i], tpr[i])"
   ]
  },
  {
   "cell_type": "code",
   "execution_count": 169,
   "metadata": {},
   "outputs": [],
   "source": [
    "# Compute micro-average ROC curve and ROC area\n",
    "fpr[\"micro\"], tpr[\"micro\"], _ = roc_curve(testY.ravel(), y_score.ravel())\n",
    "roc_auc[\"micro\"] = auc(fpr[\"micro\"], tpr[\"micro\"])\n"
   ]
  },
  {
   "cell_type": "code",
   "execution_count": 170,
   "metadata": {},
   "outputs": [],
   "source": [
    "####### Compute macro-average ROC curve and ROC area #########\n",
    "# First aggregate all false positive rates\n",
    "all_fpr = np.unique(np.concatenate([fpr[i] for i in range(n_classes)]))\n",
    "\n",
    "from scipy import interp\n",
    "# Then interpolate all ROC curves at this points\n",
    "mean_tpr = np.zeros_like(all_fpr)\n",
    "for i in range(n_classes):\n",
    "    mean_tpr += interp(all_fpr, fpr[i], tpr[i])\n",
    "\n",
    "# Finally average it and compute AUC\n",
    "mean_tpr /= n_classes\n",
    "\n",
    "fpr[\"macro\"] = all_fpr\n",
    "tpr[\"macro\"] = mean_tpr\n",
    "roc_auc[\"macro\"] = auc(fpr[\"macro\"], tpr[\"macro\"])\n"
   ]
  },
  {
   "cell_type": "code",
   "execution_count": 171,
   "metadata": {},
   "outputs": [
    {
     "data": {
      "image/png": "[encoded data removed]",
      "text/plain": [
       "<Figure size 576x432 with 1 Axes>"
      ]
     },
     "metadata": {},
     "output_type": "display_data"
    }
   ],
   "source": [
    "# Plot all ROC curves\n",
    "from itertools import cycle\n",
    "\n",
    "plt.figure(figsize=(8, 6))\n",
    "lw = 2\n",
    "plt.plot(fpr[\"micro\"], tpr[\"micro\"],\n",
    "         label='micro-average ROC curve (area = {0:0.2f})'\n",
    "               ''.format(roc_auc[\"micro\"]),\n",
    "         color='deeppink', linestyle=':', linewidth=4)\n",
    "\n",
    "plt.plot(fpr[\"macro\"], tpr[\"macro\"],\n",
    "         label='macro-average ROC curve (area = {0:0.2f})'\n",
    "               ''.format(roc_auc[\"macro\"]),\n",
    "         color='navy', linestyle=':', linewidth=4)\n",
    "\n",
    "colors = cycle(['aqua','darkorange','cornflowerblue','darkolivegreen','darkgreen',\n",
    "                'tomato', 'darkblue','indigo','purple','olive'])\n",
    "for i, color in zip(range(n_classes), colors):\n",
    "    plt.plot(fpr[i], tpr[i], color=color, lw=lw,\n",
    "             label='ROC curve of class {0} (area = {1:0.2f})'\n",
    "             ''.format(i, roc_auc[i]))\n",
    "\n",
    "plt.plot([0, 1], [0, 1], 'k--', lw=lw)\n",
    "plt.xlim([0.0, 1.0])\n",
    "plt.ylim([0.0, 1.05])\n",
    "plt.xlabel('False Positive Rate')\n",
    "plt.ylabel('True Positive Rate')\n",
    "plt.title('Receiver operating characteristic our multi-class prediction')\n",
    "plt.legend(loc=\"lower right\")\n",
    "plt.show()"
   ]
  },
  {
   "cell_type": "code",
   "execution_count": null,
   "metadata": {},
   "outputs": [],
   "source": []
  }
 ],
 "metadata": {
  "kernelspec": {
   "display_name": "Python 3",
   "language": "python",
   "name": "python3"
  },
  "language_info": {
   "codemirror_mode": {
    "name": "ipython",
    "version": 3
   },
   "file_extension": ".py",
   "mimetype": "text/x-python",
   "name": "python",
   "nbconvert_exporter": "python",
   "pygments_lexer": "ipython3",
   "version": "3.7.4"
  }
 },
 "nbformat": 4,
 "nbformat_minor": 2
}
